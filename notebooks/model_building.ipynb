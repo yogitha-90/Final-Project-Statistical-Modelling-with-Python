{
 "cells": [
  {
   "cell_type": "markdown",
   "metadata": {},
   "source": [
    "Build a regression model."
   ]
  },
  {
   "cell_type": "code",
   "execution_count": 4,
   "metadata": {
    "tags": []
   },
   "outputs": [],
   "source": [
    "# importing packages \n",
    "import pandas as pd\n",
    "import statsmodels.api as sm"
   ]
  },
  {
   "cell_type": "code",
   "execution_count": 5,
   "metadata": {
    "tags": []
   },
   "outputs": [],
   "source": [
    "# loading dataset\n",
    "data = pd.read_csv(\"C:\\\\Users\\\\Karthik Gelli\\\\Downloads\\\\statistical Modelling using python\\\\project-2\\\\notebooks\\\\Result.csv\",)"
   ]
  },
  {
   "cell_type": "code",
   "execution_count": 25,
   "metadata": {
    "tags": []
   },
   "outputs": [
    {
     "data": {
      "text/plain": [
       "Station Name           0\n",
       "station_lat            0\n",
       "station_lon            0\n",
       "Bikes Available        0\n",
       "name                   0\n",
       "distance               0\n",
       "restaurant_lat         0\n",
       "restaurant_lon         0\n",
       "address                0\n",
       "telephone          17301\n",
       "rating                 0\n",
       "review_counts          0\n",
       "closed                 0\n",
       "dtype: int64"
      ]
     },
     "execution_count": 25,
     "metadata": {},
     "output_type": "execute_result"
    }
   ],
   "source": [
    "data.isnull().sum()"
   ]
  },
  {
   "cell_type": "code",
   "execution_count": 6,
   "metadata": {
    "tags": []
   },
   "outputs": [
    {
     "data": {
      "text/html": [
       "<div>\n",
       "<style scoped>\n",
       "    .dataframe tbody tr th:only-of-type {\n",
       "        vertical-align: middle;\n",
       "    }\n",
       "\n",
       "    .dataframe tbody tr th {\n",
       "        vertical-align: top;\n",
       "    }\n",
       "\n",
       "    .dataframe thead th {\n",
       "        text-align: right;\n",
       "    }\n",
       "</style>\n",
       "<table border=\"1\" class=\"dataframe\">\n",
       "  <thead>\n",
       "    <tr style=\"text-align: right;\">\n",
       "      <th></th>\n",
       "      <th>Station Name</th>\n",
       "      <th>station_lat</th>\n",
       "      <th>station_lon</th>\n",
       "      <th>Bikes Available</th>\n",
       "      <th>name</th>\n",
       "      <th>distance</th>\n",
       "      <th>restaurant_lat</th>\n",
       "      <th>restaurant_lon</th>\n",
       "      <th>address</th>\n",
       "      <th>telephone</th>\n",
       "      <th>rating</th>\n",
       "      <th>review_counts</th>\n",
       "      <th>closed</th>\n",
       "    </tr>\n",
       "  </thead>\n",
       "  <tbody>\n",
       "    <tr>\n",
       "      <th>0</th>\n",
       "      <td>Queen St E / Woodward Ave</td>\n",
       "      <td>43.665269</td>\n",
       "      <td>-79.319796</td>\n",
       "      <td>14</td>\n",
       "      <td>Jaclyn's</td>\n",
       "      <td>172.375134</td>\n",
       "      <td>43.666270</td>\n",
       "      <td>-79.318020</td>\n",
       "      <td>['1588 Queen Street E', 'Toronto, ON M4L 1G1',...</td>\n",
       "      <td>+1 647-901-8809</td>\n",
       "      <td>4.5</td>\n",
       "      <td>16</td>\n",
       "      <td>0</td>\n",
       "    </tr>\n",
       "    <tr>\n",
       "      <th>1</th>\n",
       "      <td>Queen St E / Woodward Ave</td>\n",
       "      <td>43.665269</td>\n",
       "      <td>-79.319796</td>\n",
       "      <td>14</td>\n",
       "      <td>Lake Inez</td>\n",
       "      <td>794.661955</td>\n",
       "      <td>43.672340</td>\n",
       "      <td>-79.320640</td>\n",
       "      <td>['1471 Gerrard Street E', 'Toronto, ON M4L 2A1...</td>\n",
       "      <td>NaN</td>\n",
       "      <td>4.5</td>\n",
       "      <td>95</td>\n",
       "      <td>0</td>\n",
       "    </tr>\n",
       "    <tr>\n",
       "      <th>2</th>\n",
       "      <td>Queen St E / Woodward Ave</td>\n",
       "      <td>43.665269</td>\n",
       "      <td>-79.319796</td>\n",
       "      <td>14</td>\n",
       "      <td>Tulia Osteria</td>\n",
       "      <td>365.115394</td>\n",
       "      <td>43.664870</td>\n",
       "      <td>-79.324250</td>\n",
       "      <td>['1402 Queen Street E', 'Toronto, ON M4L 1C9',...</td>\n",
       "      <td>+1 416-461-6400</td>\n",
       "      <td>4.5</td>\n",
       "      <td>2</td>\n",
       "      <td>0</td>\n",
       "    </tr>\n",
       "    <tr>\n",
       "      <th>3</th>\n",
       "      <td>Queen St E / Woodward Ave</td>\n",
       "      <td>43.665269</td>\n",
       "      <td>-79.319796</td>\n",
       "      <td>14</td>\n",
       "      <td>Casa Di Giorgios</td>\n",
       "      <td>408.715724</td>\n",
       "      <td>43.666850</td>\n",
       "      <td>-79.315180</td>\n",
       "      <td>['1646 Queen St E', 'Toronto, ON M4L 1G3', 'Ca...</td>\n",
       "      <td>+1 416-686-7066</td>\n",
       "      <td>4.0</td>\n",
       "      <td>75</td>\n",
       "      <td>0</td>\n",
       "    </tr>\n",
       "    <tr>\n",
       "      <th>4</th>\n",
       "      <td>Queen St E / Woodward Ave</td>\n",
       "      <td>43.665269</td>\n",
       "      <td>-79.319796</td>\n",
       "      <td>14</td>\n",
       "      <td>Betty’s East</td>\n",
       "      <td>689.778721</td>\n",
       "      <td>43.663455</td>\n",
       "      <td>-79.327992</td>\n",
       "      <td>['1301 Queen Street E', 'Toronto, ON M4L 1C2',...</td>\n",
       "      <td>+1 416-901-5575</td>\n",
       "      <td>3.5</td>\n",
       "      <td>6</td>\n",
       "      <td>0</td>\n",
       "    </tr>\n",
       "    <tr>\n",
       "      <th>...</th>\n",
       "      <td>...</td>\n",
       "      <td>...</td>\n",
       "      <td>...</td>\n",
       "      <td>...</td>\n",
       "      <td>...</td>\n",
       "      <td>...</td>\n",
       "      <td>...</td>\n",
       "      <td>...</td>\n",
       "      <td>...</td>\n",
       "      <td>...</td>\n",
       "      <td>...</td>\n",
       "      <td>...</td>\n",
       "      <td>...</td>\n",
       "    </tr>\n",
       "    <tr>\n",
       "      <th>203762</th>\n",
       "      <td>800 Fleet St</td>\n",
       "      <td>43.636804</td>\n",
       "      <td>-79.408832</td>\n",
       "      <td>17</td>\n",
       "      <td>BaoBird Fried Chicken &amp; Baos</td>\n",
       "      <td>802.719367</td>\n",
       "      <td>43.640584</td>\n",
       "      <td>-79.402567</td>\n",
       "      <td>['28 Bathurst Street', 'Toronto, ON M5V 0C6', ...</td>\n",
       "      <td>NaN</td>\n",
       "      <td>5.0</td>\n",
       "      <td>1</td>\n",
       "      <td>0</td>\n",
       "    </tr>\n",
       "    <tr>\n",
       "      <th>203763</th>\n",
       "      <td>800 Fleet St</td>\n",
       "      <td>43.636804</td>\n",
       "      <td>-79.408832</td>\n",
       "      <td>17</td>\n",
       "      <td>UBE Night Market</td>\n",
       "      <td>260.249900</td>\n",
       "      <td>43.637334</td>\n",
       "      <td>-79.409135</td>\n",
       "      <td>['250 Fort York Boulevard', 'Unit 57', 'The Be...</td>\n",
       "      <td>NaN</td>\n",
       "      <td>5.0</td>\n",
       "      <td>1</td>\n",
       "      <td>0</td>\n",
       "    </tr>\n",
       "    <tr>\n",
       "      <th>203764</th>\n",
       "      <td>800 Fleet St</td>\n",
       "      <td>43.636804</td>\n",
       "      <td>-79.408832</td>\n",
       "      <td>17</td>\n",
       "      <td>Roses Cocina</td>\n",
       "      <td>293.778794</td>\n",
       "      <td>43.633214</td>\n",
       "      <td>-79.411579</td>\n",
       "      <td>['111 Princes  Boulevard', 'Floor 2', 'Toronto...</td>\n",
       "      <td>+1 647-259-6825</td>\n",
       "      <td>3.0</td>\n",
       "      <td>13</td>\n",
       "      <td>0</td>\n",
       "    </tr>\n",
       "    <tr>\n",
       "      <th>203765</th>\n",
       "      <td>800 Fleet St</td>\n",
       "      <td>43.636804</td>\n",
       "      <td>-79.408832</td>\n",
       "      <td>17</td>\n",
       "      <td>Liberty Soho</td>\n",
       "      <td>755.786002</td>\n",
       "      <td>43.638467</td>\n",
       "      <td>-79.416825</td>\n",
       "      <td>['139 E Liberty Street', 'Toronto, ON M6K 3K4'...</td>\n",
       "      <td>NaN</td>\n",
       "      <td>3.5</td>\n",
       "      <td>11</td>\n",
       "      <td>0</td>\n",
       "    </tr>\n",
       "    <tr>\n",
       "      <th>203766</th>\n",
       "      <td>800 Fleet St</td>\n",
       "      <td>43.636804</td>\n",
       "      <td>-79.408832</td>\n",
       "      <td>17</td>\n",
       "      <td>Edulis</td>\n",
       "      <td>795.874963</td>\n",
       "      <td>43.641960</td>\n",
       "      <td>-79.406580</td>\n",
       "      <td>['169 Niagara Street', 'Toronto, ON M5V', 'Can...</td>\n",
       "      <td>+1 416-703-4222</td>\n",
       "      <td>4.0</td>\n",
       "      <td>121</td>\n",
       "      <td>0</td>\n",
       "    </tr>\n",
       "  </tbody>\n",
       "</table>\n",
       "<p>203767 rows × 13 columns</p>\n",
       "</div>"
      ],
      "text/plain": [
       "                     Station Name  station_lat  station_lon  Bikes Available  \\\n",
       "0       Queen St E / Woodward Ave    43.665269   -79.319796               14   \n",
       "1       Queen St E / Woodward Ave    43.665269   -79.319796               14   \n",
       "2       Queen St E / Woodward Ave    43.665269   -79.319796               14   \n",
       "3       Queen St E / Woodward Ave    43.665269   -79.319796               14   \n",
       "4       Queen St E / Woodward Ave    43.665269   -79.319796               14   \n",
       "...                           ...          ...          ...              ...   \n",
       "203762               800 Fleet St    43.636804   -79.408832               17   \n",
       "203763               800 Fleet St    43.636804   -79.408832               17   \n",
       "203764               800 Fleet St    43.636804   -79.408832               17   \n",
       "203765               800 Fleet St    43.636804   -79.408832               17   \n",
       "203766               800 Fleet St    43.636804   -79.408832               17   \n",
       "\n",
       "                                name    distance  restaurant_lat  \\\n",
       "0                           Jaclyn's  172.375134       43.666270   \n",
       "1                          Lake Inez  794.661955       43.672340   \n",
       "2                      Tulia Osteria  365.115394       43.664870   \n",
       "3                   Casa Di Giorgios  408.715724       43.666850   \n",
       "4                       Betty’s East  689.778721       43.663455   \n",
       "...                              ...         ...             ...   \n",
       "203762  BaoBird Fried Chicken & Baos  802.719367       43.640584   \n",
       "203763              UBE Night Market  260.249900       43.637334   \n",
       "203764                  Roses Cocina  293.778794       43.633214   \n",
       "203765                  Liberty Soho  755.786002       43.638467   \n",
       "203766                        Edulis  795.874963       43.641960   \n",
       "\n",
       "        restaurant_lon                                            address  \\\n",
       "0           -79.318020  ['1588 Queen Street E', 'Toronto, ON M4L 1G1',...   \n",
       "1           -79.320640  ['1471 Gerrard Street E', 'Toronto, ON M4L 2A1...   \n",
       "2           -79.324250  ['1402 Queen Street E', 'Toronto, ON M4L 1C9',...   \n",
       "3           -79.315180  ['1646 Queen St E', 'Toronto, ON M4L 1G3', 'Ca...   \n",
       "4           -79.327992  ['1301 Queen Street E', 'Toronto, ON M4L 1C2',...   \n",
       "...                ...                                                ...   \n",
       "203762      -79.402567  ['28 Bathurst Street', 'Toronto, ON M5V 0C6', ...   \n",
       "203763      -79.409135  ['250 Fort York Boulevard', 'Unit 57', 'The Be...   \n",
       "203764      -79.411579  ['111 Princes  Boulevard', 'Floor 2', 'Toronto...   \n",
       "203765      -79.416825  ['139 E Liberty Street', 'Toronto, ON M6K 3K4'...   \n",
       "203766      -79.406580  ['169 Niagara Street', 'Toronto, ON M5V', 'Can...   \n",
       "\n",
       "              telephone  rating  review_counts  closed  \n",
       "0       +1 647-901-8809     4.5             16       0  \n",
       "1                   NaN     4.5             95       0  \n",
       "2       +1 416-461-6400     4.5              2       0  \n",
       "3       +1 416-686-7066     4.0             75       0  \n",
       "4       +1 416-901-5575     3.5              6       0  \n",
       "...                 ...     ...            ...     ...  \n",
       "203762              NaN     5.0              1       0  \n",
       "203763              NaN     5.0              1       0  \n",
       "203764  +1 647-259-6825     3.0             13       0  \n",
       "203765              NaN     3.5             11       0  \n",
       "203766  +1 416-703-4222     4.0            121       0  \n",
       "\n",
       "[203767 rows x 13 columns]"
      ]
     },
     "execution_count": 6,
     "metadata": {},
     "output_type": "execute_result"
    }
   ],
   "source": [
    "data"
   ]
  },
  {
   "cell_type": "code",
   "execution_count": 41,
   "metadata": {
    "tags": []
   },
   "outputs": [],
   "source": [
    "# Define the independent variable and the dependent variable\n",
    "X = data[['review_counts','distance','rating']] # independent variables\n",
    "y = data[['Bikes Available']] # dependent variable\n",
    "\n",
    "# Add a contant term to the independent variables (intercept)\n",
    "X = sm.add_constant(X)\n",
    "\n",
    "# create and fit the linear regression model\n",
    "model = sm.OLS(y, X).fit()"
   ]
  },
  {
   "cell_type": "markdown",
   "metadata": {},
   "source": [
    "Provide model output and an interpretation of the results. "
   ]
  },
  {
   "cell_type": "code",
   "execution_count": 42,
   "metadata": {
    "scrolled": true,
    "tags": []
   },
   "outputs": [
    {
     "name": "stdout",
     "output_type": "stream",
     "text": [
      "                            OLS Regression Results                            \n",
      "==============================================================================\n",
      "Dep. Variable:        Bikes Available   R-squared:                       0.002\n",
      "Model:                            OLS   Adj. R-squared:                  0.002\n",
      "Method:                 Least Squares   F-statistic:                     136.0\n",
      "Date:                Fri, 29 Sep 2023   Prob (F-statistic):           5.31e-88\n",
      "Time:                        11:43:09   Log-Likelihood:            -6.9132e+05\n",
      "No. Observations:              203767   AIC:                         1.383e+06\n",
      "Df Residuals:                  203763   BIC:                         1.383e+06\n",
      "Df Model:                           3                                         \n",
      "Covariance Type:            nonrobust                                         \n",
      "=================================================================================\n",
      "                    coef    std err          t      P>|t|      [0.025      0.975]\n",
      "---------------------------------------------------------------------------------\n",
      "const             7.5899      0.137     55.443      0.000       7.322       7.858\n",
      "review_counts     0.0006    3.3e-05     18.450      0.000       0.001       0.001\n",
      "distance          0.0002    6.1e-05      2.861      0.004     5.5e-05       0.000\n",
      "rating            0.1730      0.033      5.294      0.000       0.109       0.237\n",
      "==============================================================================\n",
      "Omnibus:                    29540.499   Durbin-Watson:                   0.009\n",
      "Prob(Omnibus):                  0.000   Jarque-Bera (JB):            46300.532\n",
      "Skew:                           1.021   Prob(JB):                         0.00\n",
      "Kurtosis:                       4.131   Cond. No.                     5.78e+03\n",
      "==============================================================================\n",
      "\n",
      "Notes:\n",
      "[1] Standard Errors assume that the covariance matrix of the errors is correctly specified.\n",
      "[2] The condition number is large, 5.78e+03. This might indicate that there are\n",
      "strong multicollinearity or other numerical problems.\n"
     ]
    }
   ],
   "source": [
    "# Print a summary of the regression results\n",
    "print(model.summary())"
   ]
  },
  {
   "cell_type": "markdown",
   "metadata": {},
   "source": [
    "### Interpretation of the model\n",
    "\n",
    "(1) Model Fit: Adj. R-squared is very low, i.e it only (0.2)% of variance in Bikes Available is explained by the independent variable\n",
    "\n",
    "(2) if we remove rating,distance from independent variable and fit the model it shows that the distance doesn't explaind the variance of bikes available at all.\n",
    "\n",
    "(3) 0.2% variance is for review_counts only : it does have effect on Bikes Avaialble(but very little)\n",
    "\n",
    "(4) we can conclude that ther model is very poor and we will need more data to further check relations between variables"
   ]
  },
  {
   "cell_type": "code",
   "execution_count": 43,
   "metadata": {
    "tags": []
   },
   "outputs": [],
   "source": [
    "# dependent varaible\n",
    "y1 = data['Bikes Available']\n",
    "\n",
    "# Independent variables (including only 'distance')\n",
    "X1 = data['distance']\n",
    "\n",
    "X1 = sm.add_constant(X1)"
   ]
  },
  {
   "cell_type": "code",
   "execution_count": 44,
   "metadata": {
    "tags": []
   },
   "outputs": [],
   "source": [
    "# Fit the linea regression model\n",
    "model_distance = sm.OLS(y1, X1).fit()"
   ]
  },
  {
   "cell_type": "code",
   "execution_count": 47,
   "metadata": {
    "tags": []
   },
   "outputs": [
    {
     "name": "stdout",
     "output_type": "stream",
     "text": [
      "                            OLS Regression Results                            \n",
      "==============================================================================\n",
      "Dep. Variable:        Bikes Available   R-squared:                       0.000\n",
      "Model:                            OLS   Adj. R-squared:                  0.000\n",
      "Method:                 Least Squares   F-statistic:                     38.04\n",
      "Date:                Fri, 29 Sep 2023   Prob (F-statistic):           6.93e-10\n",
      "Time:                        14:34:46   Log-Likelihood:            -6.9150e+05\n",
      "No. Observations:              203767   AIC:                         1.383e+06\n",
      "Df Residuals:                  203765   BIC:                         1.383e+06\n",
      "Df Model:                           1                                         \n",
      "Covariance Type:            nonrobust                                         \n",
      "==============================================================================\n",
      "                 coef    std err          t      P>|t|      [0.025      0.975]\n",
      "------------------------------------------------------------------------------\n",
      "const          8.3561      0.033    251.379      0.000       8.291       8.421\n",
      "distance       0.0004   6.01e-05      6.168      0.000       0.000       0.000\n",
      "==============================================================================\n",
      "Omnibus:                    29615.157   Durbin-Watson:                   0.006\n",
      "Prob(Omnibus):                  0.000   Jarque-Bera (JB):            46474.164\n",
      "Skew:                           1.023   Prob(JB):                         0.00\n",
      "Kurtosis:                       4.135   Cond. No.                     1.15e+03\n",
      "==============================================================================\n",
      "\n",
      "Notes:\n",
      "[1] Standard Errors assume that the covariance matrix of the errors is correctly specified.\n",
      "[2] The condition number is large, 1.15e+03. This might indicate that there are\n",
      "strong multicollinearity or other numerical problems.\n"
     ]
    }
   ],
   "source": [
    "print(model_distance.summary())"
   ]
  },
  {
   "cell_type": "code",
   "execution_count": null,
   "metadata": {},
   "outputs": [],
   "source": []
  }
 ],
 "metadata": {
  "kernelspec": {
   "display_name": "Python 3 (ipykernel)",
   "language": "python",
   "name": "python3"
  },
  "language_info": {
   "codemirror_mode": {
    "name": "ipython",
    "version": 3
   },
   "file_extension": ".py",
   "mimetype": "text/x-python",
   "name": "python",
   "nbconvert_exporter": "python",
   "pygments_lexer": "ipython3",
   "version": "3.11.4"
  }
 },
 "nbformat": 4,
 "nbformat_minor": 4
}
