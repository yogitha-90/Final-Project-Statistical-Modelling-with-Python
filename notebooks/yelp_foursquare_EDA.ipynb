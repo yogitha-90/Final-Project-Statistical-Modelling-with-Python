{
 "cells": [
  {
   "cell_type": "code",
   "execution_count": 2,
   "metadata": {
    "tags": []
   },
   "outputs": [],
   "source": [
    "# imports\n",
    "import pandas as pd\n",
    "import numpy as np\n",
    "import requests\n",
    "import os\n",
    "import json"
   ]
  },
  {
   "cell_type": "markdown",
   "metadata": {},
   "source": [
    "# Foursquare"
   ]
  },
  {
   "cell_type": "markdown",
   "metadata": {},
   "source": [
    "Send a request to Foursquare with a small radius (1000m) for all the bike stations in your city of choice. "
   ]
  },
  {
   "cell_type": "code",
   "execution_count": 3,
   "metadata": {
    "tags": []
   },
   "outputs": [],
   "source": [
    "# Definining API key credentials\n",
    "API_KEY =os.environ.get(\"FOURSQUARE_API_KEY\")"
   ]
  },
  {
   "cell_type": "code",
   "execution_count": 5,
   "metadata": {
    "tags": []
   },
   "outputs": [],
   "source": [
    "# importing result from citybikes API with all stations in Toronto\n",
    "df = pd.read_csv('C:\\\\Users\\\\Karthik Gelli\\\\Downloads\\\\statistical Modelling using python\\\\project-2\\\\data\\\\Bike_stations.csv', delimiter=',')"
   ]
  },
  {
   "cell_type": "code",
   "execution_count": 11,
   "metadata": {
    "tags": []
   },
   "outputs": [],
   "source": [
    "# converting Dataframe into json\n",
    "Bike_stations = df.to_json(orient='records')"
   ]
  },
  {
   "cell_type": "code",
   "execution_count": 7,
   "metadata": {
    "tags": []
   },
   "outputs": [],
   "source": [
    " # Defining API endpoint\n",
    "url = \"https://api.foursquare.com/v3/places/search\"\n",
    "\n",
    "# headers\n",
    "headers = {\"Accept\": \"application/json\",\n",
    "           \"Authorization\": API_KEY}\n",
    "\n"
   ]
  },
  {
   "cell_type": "code",
   "execution_count": 12,
   "metadata": {
    "tags": []
   },
   "outputs": [],
   "source": [
    "# Bike_stations was in str datatype after converting it to json\n",
    "# to iterate through it change it to list of dictionary\n",
    "Bike_stations = json.loads(Bike_stations)\n",
    "#type(Bike_stations)\n"
   ]
  },
  {
   "cell_type": "code",
   "execution_count": 13,
   "metadata": {
    "scrolled": true,
    "tags": []
   },
   "outputs": [],
   "source": [
    "# creating empty list to store responses\n",
    "response_list = []\n",
    "\n",
    "# iteraing through each station in Bike_stations \n",
    "for station in Bike_stations:\n",
    "    latitude = station.get('Latitude')\n",
    "    longitude = station.get('Longitude')\n",
    "    \n",
    "    \n",
    "     # Defining API endpoint\n",
    "    url = \"https://api.foursquare.com/v3/places/search\"\n",
    "\n",
    "    # headers\n",
    "    headers = {\"Accept\": \"application/json\",\n",
    "                 \"Authorization\": API_KEY}\n",
    "    \n",
    "\n",
    "    \n",
    "    \n",
    "    # setting up parameters for API request\n",
    "\n",
    "    params = {\n",
    "           'query': 'Indian Restaurant',\n",
    "           'll': f\"{latitude},{longitude}\",\n",
    "           'radius': 1000,\n",
    "           'open_now': True,\n",
    "           'fields': 'name,location,geocodes,categories,distance,rating,tel,hours,stats,features'\n",
    "             }  \n",
    "    \n",
    "    # send the foresquare API request\n",
    "    response = requests.get(url,params=params, headers=headers)\n",
    "    \n",
    "    \n",
    "    \n",
    "    # check if request was successfull (status code 200)\n",
    "    if response.status_code == 200:\n",
    "        #use the .json() method to parse the response content into json\n",
    "        data_json = response.json()\n",
    "        \n",
    "        # Append the response to the list\n",
    "        response_list.append(data_json)\n",
    "    else:\n",
    "        print(f\"Request failed: {response.status_code}\")"
   ]
  },
  {
   "cell_type": "markdown",
   "metadata": {},
   "source": [
    "Parse through the response to get the POI (such as restaurants, bars, etc) details you want (ratings, name, location, etc)"
   ]
  },
  {
   "cell_type": "code",
   "execution_count": 15,
   "metadata": {
    "tags": []
   },
   "outputs": [],
   "source": [
    "flattened_data = [\n",
    "    {\n",
    "    \"Latitude\": response[\"geocodes\"][\"main\"].get(\"latitude\"),\n",
    "    \"Longitude\": response[\"geocodes\"][\"main\"].get(\"longitude\"),\n",
    "    \"name\": response.get(\"name\"),\n",
    "    \"distance\": response.get(\"distance\"),\n",
    "    \"address\": response[\"location\"].get(\"formatted_address\"),\n",
    "    \"telephone\": response.get(\"tel\"),\n",
    "    \"rating\": response.get(\"rating\"),\n",
    "    \"open_true\": response[\"hours\"].get(\"open_now\")\n",
    "    }\n",
    "  for result in response_list\n",
    "  for response in result.get(\"results\", [])\n",
    "]"
   ]
  },
  {
   "cell_type": "markdown",
   "metadata": {},
   "source": [
    "Put your parsed results into a DataFrame"
   ]
  },
  {
   "cell_type": "code",
   "execution_count": 16,
   "metadata": {
    "tags": []
   },
   "outputs": [],
   "source": [
    "fsq_restaurant = pd.DataFrame(flattened_data)"
   ]
  },
  {
   "cell_type": "code",
   "execution_count": 18,
   "metadata": {
    "tags": []
   },
   "outputs": [
    {
     "data": {
      "text/plain": [
       "(3523, 8)"
      ]
     },
     "execution_count": 18,
     "metadata": {},
     "output_type": "execute_result"
    }
   ],
   "source": [
    "fsq_restaurant.shape"
   ]
  },
  {
   "cell_type": "code",
   "execution_count": 21,
   "metadata": {
    "tags": []
   },
   "outputs": [],
   "source": [
    "# creating a csv file for Bike_stations Dataframe to use it for further steps\n",
    "file_path = 'C:\\\\Users\\\\Karthik Gelli\\\\Downloads\\\\statistical Modelling using python\\\\project-2\\\\data\\\\fsq_restaurant.csv'\n",
    "\n",
    "# save the dataframe into CSV file path\n",
    "fsq_restaurant.to_csv(file_path, index=False)\n"
   ]
  },
  {
   "cell_type": "code",
   "execution_count": null,
   "metadata": {},
   "outputs": [],
   "source": []
  },
  {
   "cell_type": "markdown",
   "metadata": {},
   "source": [
    "# Yelp"
   ]
  },
  {
   "cell_type": "markdown",
   "metadata": {},
   "source": [
    "Send a request to Yelp with a small radius (1000m) for all the bike stations in your city of choice. "
   ]
  },
  {
   "cell_type": "code",
   "execution_count": 22,
   "metadata": {
    "tags": []
   },
   "outputs": [],
   "source": [
    "\n",
    "YELP_API_KEY = os.getenv(\"YELP_API_KEY\")\n",
    "\n",
    "#https://api.yelp.com/v3/businesses/search"
   ]
  },
  {
   "cell_type": "code",
   "execution_count": 24,
   "metadata": {
    "tags": []
   },
   "outputs": [
    {
     "name": "stdout",
     "output_type": "stream",
     "text": [
      "Request failed: 500\n"
     ]
    }
   ],
   "source": [
    "# creating empty list to store responses\n",
    "yelp_response_list = []\n",
    "\n",
    "# maximum number of request to send\n",
    "MAX_REQUEST = 490\n",
    "\n",
    "# initialize a request count\n",
    "request_count = 0\n",
    "\n",
    "\n",
    "# iteraing through each station in Bike_stations \n",
    "for station in Bike_stations:\n",
    "    \n",
    "    #check if the maximum number of request has been reached\n",
    "    if request_count >= MAX_REQUEST:\n",
    "        break\n",
    "        \n",
    "    latitude = station.get('Latitude')\n",
    "    longitude = station.get('Longitude')\n",
    "    \n",
    "    \n",
    "     # Defining API endpoint\n",
    "    url_yelp = \"https://api.yelp.com/v3/businesses/search\"\n",
    "\n",
    "    # headers\n",
    "    headers = {\"Accept\": \"application/json\",\n",
    "                 \"Authorization\": f'Bearer {YELP_API_KEY}',\n",
    "                 }\n",
    "    \n",
    "\n",
    "    \n",
    "    \n",
    "    # setting up parameters for API request\n",
    "\n",
    "    params = {\n",
    "           'latitude': latitude,\n",
    "           'longitude': longitude,\n",
    "           'term': 'Restaurant',\n",
    "           'radius': 1000,\n",
    "             }  \n",
    "    \n",
    "    # send the foresquare API request\n",
    "    response_yelp = requests.get(url=url_yelp,params=params, headers=headers)\n",
    "    \n",
    "    \n",
    "    # check if request was successfull (status code 200)\n",
    "    if response_yelp.status_code == 200:\n",
    "        #use the .json() method to parse the response content into json\n",
    "        yelp_data_json = response_yelp.json()\n",
    "        \n",
    "        # Append the response to the list\n",
    "        yelp_response_list.append(yelp_data_json)\n",
    "        \n",
    "        # Increment the request counter\n",
    "        request_count += 1\n",
    "    else:\n",
    "        print(f\"Request failed: {response_yelp.status_code}\")"
   ]
  },
  {
   "cell_type": "markdown",
   "metadata": {},
   "source": [
    "Parse through the response to get the POI (such as restaurants, bars, etc) details you want (ratings, name, location, etc)"
   ]
  },
  {
   "cell_type": "code",
   "execution_count": 37,
   "metadata": {
    "tags": []
   },
   "outputs": [],
   "source": [
    "#yelp_response_list.get['businesses'][0]['coordinates']\n",
    "coordinates_list=[]\n",
    "for record in yelp_response_list:\n",
    "    for business in record.get('businesses', []):\n",
    "        coordinates = business.get('coordinates', {})\n",
    "        if 'latitude' in coordinates and 'longitude' in coordinates:\n",
    "            latitude = coordinates['latitude']\n",
    "            longitude = coordinates['longitude']\n",
    "            coordinates_list.append((latitude, longitude))\n",
    "\n",
    "# Print all coordinates\n",
    "#for latitude, longitude in coordinates_list:\n",
    "   # print(f'Latitude: {latitude}, Longitude: {longitude}')\n",
    "#This code assumes that 'yelp_response_list' is a list of dictionaries and handles cases where 'businesses' or 'coordinates' may be missing or have unexpected structures."
   ]
  },
  {
   "cell_type": "code",
   "execution_count": 40,
   "metadata": {
    "tags": []
   },
   "outputs": [],
   "source": [
    "yelp_flattened_data = [\n",
    "    {\n",
    "    \"name\": response.get(\"name\"),\n",
    "    \"distance\": response.get(\"distance\"),\n",
    "    \"latitude\": response[\"coordinates\"].get(\"latitude\"),\n",
    "    \"longitude\": response[\"coordinates\"].get(\"longitude\"),\n",
    "    \"address\": response[\"location\"].get(\"display_address\"),\n",
    "    \"telephone\": response.get(\"display_phone\"),\n",
    "    \"rating\": response.get(\"rating\"),\n",
    "    \"review_counts\": response.get(\"review_count\"),\n",
    "    \"closed\": response.get(\"is_closed\")\n",
    "    }\n",
    "  for result in yelp_response_list\n",
    "  for response in result.get(\"businesses\", [])\n",
    "]"
   ]
  },
  {
   "cell_type": "markdown",
   "metadata": {},
   "source": [
    "Put your parsed results into a DataFrame"
   ]
  },
  {
   "cell_type": "code",
   "execution_count": 41,
   "metadata": {
    "tags": []
   },
   "outputs": [],
   "source": [
    "yelp_restaurant = pd.DataFrame(yelp_flattened_data)"
   ]
  },
  {
   "cell_type": "code",
   "execution_count": 43,
   "metadata": {
    "tags": []
   },
   "outputs": [],
   "source": [
    "# creating a csv file for Bike_stations Dataframe to use it for further steps\n",
    "file_path = 'C:\\\\Users\\\\Karthik Gelli\\\\Downloads\\\\statistical Modelling using python\\\\yelp_restaurant.csv'\n",
    "\n",
    "# save the dataframe into CSV file path\n",
    "yelp_restaurant.to_csv(file_path, index=False)"
   ]
  },
  {
   "cell_type": "code",
   "execution_count": 44,
   "metadata": {
    "tags": []
   },
   "outputs": [],
   "source": [
    "yelp_restaurant = pd.read_csv('C:\\\\Users\\\\Karthik Gelli\\\\Downloads\\\\statistical Modelling using python\\\\project-2\\\\data\\\\yelp_restaurant.csv')"
   ]
  },
  {
   "cell_type": "code",
   "execution_count": 46,
   "metadata": {
    "tags": []
   },
   "outputs": [
    {
     "data": {
      "text/plain": [
       "(9531, 9)"
      ]
     },
     "execution_count": 46,
     "metadata": {},
     "output_type": "execute_result"
    }
   ],
   "source": [
    "yelp_restaurant.shape"
   ]
  },
  {
   "cell_type": "markdown",
   "metadata": {},
   "source": [
    "# Comparing Results"
   ]
  },
  {
   "cell_type": "markdown",
   "metadata": {},
   "source": [
    "We will go over indian_restaurant result that is the result we got from Foursqare API"
   ]
  },
  {
   "cell_type": "code",
   "execution_count": 52,
   "metadata": {
    "scrolled": true,
    "tags": []
   },
   "outputs": [
    {
     "data": {
      "text/html": [
       "<div>\n",
       "<style scoped>\n",
       "    .dataframe tbody tr th:only-of-type {\n",
       "        vertical-align: middle;\n",
       "    }\n",
       "\n",
       "    .dataframe tbody tr th {\n",
       "        vertical-align: top;\n",
       "    }\n",
       "\n",
       "    .dataframe thead th {\n",
       "        text-align: right;\n",
       "    }\n",
       "</style>\n",
       "<table border=\"1\" class=\"dataframe\">\n",
       "  <thead>\n",
       "    <tr style=\"text-align: right;\">\n",
       "      <th></th>\n",
       "      <th>Latitude</th>\n",
       "      <th>Longitude</th>\n",
       "      <th>name</th>\n",
       "      <th>distance</th>\n",
       "      <th>address</th>\n",
       "      <th>telephone</th>\n",
       "      <th>rating</th>\n",
       "      <th>open_true</th>\n",
       "    </tr>\n",
       "  </thead>\n",
       "  <tbody>\n",
       "    <tr>\n",
       "      <th>0</th>\n",
       "      <td>43.672665</td>\n",
       "      <td>-79.321041</td>\n",
       "      <td>Udupi Palace</td>\n",
       "      <td>810</td>\n",
       "      <td>1460 Gerrard St E (Coxwell Ave), Toronto ON M4...</td>\n",
       "      <td>(416) 405-8189</td>\n",
       "      <td>8.6</td>\n",
       "      <td>True</td>\n",
       "    </tr>\n",
       "    <tr>\n",
       "      <th>1</th>\n",
       "      <td>43.672278</td>\n",
       "      <td>-79.322523</td>\n",
       "      <td>Motimahal Restaurant Ltd</td>\n",
       "      <td>798</td>\n",
       "      <td>1422 Gerrard St E (Coxwell), Toronto ON M4L 1Z6</td>\n",
       "      <td>(416) 461-3111</td>\n",
       "      <td>7.6</td>\n",
       "      <td>True</td>\n",
       "    </tr>\n",
       "    <tr>\n",
       "      <th>2</th>\n",
       "      <td>43.671871</td>\n",
       "      <td>-79.324283</td>\n",
       "      <td>Bombay Chowpatty</td>\n",
       "      <td>812</td>\n",
       "      <td>1386 Gerrard St E, Toronto ON M4L 1Z2</td>\n",
       "      <td>(416) 405-8080</td>\n",
       "      <td>7.3</td>\n",
       "      <td>True</td>\n",
       "    </tr>\n",
       "    <tr>\n",
       "      <th>3</th>\n",
       "      <td>43.672004</td>\n",
       "      <td>-79.322433</td>\n",
       "      <td>Regency Restaurant Inc</td>\n",
       "      <td>790</td>\n",
       "      <td>1423 Gerrard St E (Hiawatha St), Toronto ON M4...</td>\n",
       "      <td>(416) 778-7366</td>\n",
       "      <td>6.2</td>\n",
       "      <td>True</td>\n",
       "    </tr>\n",
       "    <tr>\n",
       "      <th>4</th>\n",
       "      <td>43.666400</td>\n",
       "      <td>-79.316826</td>\n",
       "      <td>Butter Chicken Roti</td>\n",
       "      <td>255</td>\n",
       "      <td>1610 Queen St E (Coxwel), Toronto ON M4L 1G2</td>\n",
       "      <td>(647) 349-7684</td>\n",
       "      <td>NaN</td>\n",
       "      <td>True</td>\n",
       "    </tr>\n",
       "    <tr>\n",
       "      <th>...</th>\n",
       "      <td>...</td>\n",
       "      <td>...</td>\n",
       "      <td>...</td>\n",
       "      <td>...</td>\n",
       "      <td>...</td>\n",
       "      <td>...</td>\n",
       "      <td>...</td>\n",
       "      <td>...</td>\n",
       "    </tr>\n",
       "    <tr>\n",
       "      <th>3518</th>\n",
       "      <td>43.641873</td>\n",
       "      <td>-79.411437</td>\n",
       "      <td>My Roti Place</td>\n",
       "      <td>982</td>\n",
       "      <td>901 King St W (at Strachan Ave), Toronto ON M5...</td>\n",
       "      <td>(647) 295-9446</td>\n",
       "      <td>NaN</td>\n",
       "      <td>True</td>\n",
       "    </tr>\n",
       "    <tr>\n",
       "      <th>3519</th>\n",
       "      <td>43.638479</td>\n",
       "      <td>-79.417204</td>\n",
       "      <td>Brazen Head Irish Pub</td>\n",
       "      <td>617</td>\n",
       "      <td>165 E. Liberty St (at Lynn Williams St.), Toro...</td>\n",
       "      <td>(416) 535-8787</td>\n",
       "      <td>6.1</td>\n",
       "      <td>True</td>\n",
       "    </tr>\n",
       "    <tr>\n",
       "      <th>3520</th>\n",
       "      <td>43.641873</td>\n",
       "      <td>-79.411437</td>\n",
       "      <td>My Roti Place</td>\n",
       "      <td>622</td>\n",
       "      <td>901 King St W (at Strachan Ave), Toronto ON M5...</td>\n",
       "      <td>(647) 295-9446</td>\n",
       "      <td>NaN</td>\n",
       "      <td>True</td>\n",
       "    </tr>\n",
       "    <tr>\n",
       "      <th>3521</th>\n",
       "      <td>43.638768</td>\n",
       "      <td>-79.416315</td>\n",
       "      <td>Maurya East Indian Cuisine - Liberty Village</td>\n",
       "      <td>655</td>\n",
       "      <td>150 E Liberty St, Toronto ON M6K 3R5</td>\n",
       "      <td>(647) 347-7002</td>\n",
       "      <td>NaN</td>\n",
       "      <td>True</td>\n",
       "    </tr>\n",
       "    <tr>\n",
       "      <th>3522</th>\n",
       "      <td>43.638479</td>\n",
       "      <td>-79.417204</td>\n",
       "      <td>Brazen Head Irish Pub</td>\n",
       "      <td>692</td>\n",
       "      <td>165 E. Liberty St (at Lynn Williams St.), Toro...</td>\n",
       "      <td>(416) 535-8787</td>\n",
       "      <td>6.1</td>\n",
       "      <td>True</td>\n",
       "    </tr>\n",
       "  </tbody>\n",
       "</table>\n",
       "<p>3523 rows × 8 columns</p>\n",
       "</div>"
      ],
      "text/plain": [
       "       Latitude  Longitude                                          name  \\\n",
       "0     43.672665 -79.321041                                  Udupi Palace   \n",
       "1     43.672278 -79.322523                      Motimahal Restaurant Ltd   \n",
       "2     43.671871 -79.324283                              Bombay Chowpatty   \n",
       "3     43.672004 -79.322433                        Regency Restaurant Inc   \n",
       "4     43.666400 -79.316826                           Butter Chicken Roti   \n",
       "...         ...        ...                                           ...   \n",
       "3518  43.641873 -79.411437                                 My Roti Place   \n",
       "3519  43.638479 -79.417204                         Brazen Head Irish Pub   \n",
       "3520  43.641873 -79.411437                                 My Roti Place   \n",
       "3521  43.638768 -79.416315  Maurya East Indian Cuisine - Liberty Village   \n",
       "3522  43.638479 -79.417204                         Brazen Head Irish Pub   \n",
       "\n",
       "      distance                                            address  \\\n",
       "0          810  1460 Gerrard St E (Coxwell Ave), Toronto ON M4...   \n",
       "1          798    1422 Gerrard St E (Coxwell), Toronto ON M4L 1Z6   \n",
       "2          812              1386 Gerrard St E, Toronto ON M4L 1Z2   \n",
       "3          790  1423 Gerrard St E (Hiawatha St), Toronto ON M4...   \n",
       "4          255       1610 Queen St E (Coxwel), Toronto ON M4L 1G2   \n",
       "...        ...                                                ...   \n",
       "3518       982  901 King St W (at Strachan Ave), Toronto ON M5...   \n",
       "3519       617  165 E. Liberty St (at Lynn Williams St.), Toro...   \n",
       "3520       622  901 King St W (at Strachan Ave), Toronto ON M5...   \n",
       "3521       655               150 E Liberty St, Toronto ON M6K 3R5   \n",
       "3522       692  165 E. Liberty St (at Lynn Williams St.), Toro...   \n",
       "\n",
       "           telephone  rating  open_true  \n",
       "0     (416) 405-8189     8.6       True  \n",
       "1     (416) 461-3111     7.6       True  \n",
       "2     (416) 405-8080     7.3       True  \n",
       "3     (416) 778-7366     6.2       True  \n",
       "4     (647) 349-7684     NaN       True  \n",
       "...              ...     ...        ...  \n",
       "3518  (647) 295-9446     NaN       True  \n",
       "3519  (416) 535-8787     6.1       True  \n",
       "3520  (647) 295-9446     NaN       True  \n",
       "3521  (647) 347-7002     NaN       True  \n",
       "3522  (416) 535-8787     6.1       True  \n",
       "\n",
       "[3523 rows x 8 columns]"
      ]
     },
     "execution_count": 52,
     "metadata": {},
     "output_type": "execute_result"
    }
   ],
   "source": [
    "fsq_restaurant"
   ]
  },
  {
   "cell_type": "code",
   "execution_count": 53,
   "metadata": {
    "scrolled": true,
    "tags": []
   },
   "outputs": [
    {
     "data": {
      "text/plain": [
       "Latitude        0\n",
       "Longitude       0\n",
       "name            0\n",
       "distance        0\n",
       "address         0\n",
       "telephone       4\n",
       "rating       1423\n",
       "open_true       0\n",
       "dtype: int64"
      ]
     },
     "execution_count": 53,
     "metadata": {},
     "output_type": "execute_result"
    }
   ],
   "source": [
    "# check any null values\n",
    "fsq_restaurant.isnull().sum()"
   ]
  },
  {
   "cell_type": "code",
   "execution_count": 54,
   "metadata": {
    "scrolled": true,
    "tags": []
   },
   "outputs": [
    {
     "data": {
      "text/plain": [
       "65"
      ]
     },
     "execution_count": 54,
     "metadata": {},
     "output_type": "execute_result"
    }
   ],
   "source": [
    "# checking duplicating values \n",
    "fsq_restaurant.duplicated().sum()"
   ]
  },
  {
   "cell_type": "code",
   "execution_count": 55,
   "metadata": {
    "scrolled": true,
    "tags": []
   },
   "outputs": [
    {
     "data": {
      "text/plain": [
       "(3523, 8)"
      ]
     },
     "execution_count": 55,
     "metadata": {},
     "output_type": "execute_result"
    }
   ],
   "source": [
    "fsq_restaurant.shape"
   ]
  },
  {
   "cell_type": "markdown",
   "metadata": {},
   "source": [
    "We will go over indian restaurants that we got from yelp API requests"
   ]
  },
  {
   "cell_type": "code",
   "execution_count": 56,
   "metadata": {
    "tags": []
   },
   "outputs": [
    {
     "data": {
      "text/plain": [
       "(9531, 9)"
      ]
     },
     "execution_count": 56,
     "metadata": {},
     "output_type": "execute_result"
    }
   ],
   "source": [
    "yelp_restaurant.shape"
   ]
  },
  {
   "cell_type": "code",
   "execution_count": 57,
   "metadata": {
    "tags": []
   },
   "outputs": [
    {
     "data": {
      "text/plain": [
       "name               0\n",
       "distance           0\n",
       "latitude           0\n",
       "longitude          0\n",
       "address            0\n",
       "telephone        735\n",
       "rating             0\n",
       "review_counts      0\n",
       "closed             0\n",
       "dtype: int64"
      ]
     },
     "execution_count": 57,
     "metadata": {},
     "output_type": "execute_result"
    }
   ],
   "source": [
    "# checking null values\n",
    "yelp_restaurant.isnull().sum()"
   ]
  },
  {
   "cell_type": "code",
   "execution_count": 58,
   "metadata": {
    "tags": []
   },
   "outputs": [
    {
     "data": {
      "text/plain": [
       "0"
      ]
     },
     "execution_count": 58,
     "metadata": {},
     "output_type": "execute_result"
    }
   ],
   "source": [
    "# checking duplicate values\n",
    "yelp_restaurant.duplicated().sum()"
   ]
  },
  {
   "cell_type": "markdown",
   "metadata": {},
   "source": [
    "Which API provided you with more complete data? Provide an explanation. "
   ]
  },
  {
   "cell_type": "markdown",
   "metadata": {},
   "source": [
    "Yelp API provided more complete data as mentioned in above steps, There are no null and duplicated value in yelp result, where in foursquare there are null results in ratings and telephone numbers, also yelp provided more field atrributes from results then foursquare and yelp returns more precise and quantity result then foursqare.\n",
    "\n",
    "One downside for yelp is that it provides less api requests then Foursqare as you have to me more carefull with code writing with yelp request as to not run out of requests"
   ]
  },
  {
   "cell_type": "code",
   "execution_count": null,
   "metadata": {},
   "outputs": [],
   "source": []
  },
  {
   "cell_type": "code",
   "execution_count": null,
   "metadata": {},
   "outputs": [],
   "source": []
  },
  {
   "cell_type": "markdown",
   "metadata": {},
   "source": []
  },
  {
   "cell_type": "markdown",
   "metadata": {},
   "source": [
    "Get the top 10 restaurants according to their rating"
   ]
  },
  {
   "cell_type": "code",
   "execution_count": 61,
   "metadata": {
    "tags": []
   },
   "outputs": [
    {
     "data": {
      "text/html": [
       "<div>\n",
       "<style scoped>\n",
       "    .dataframe tbody tr th:only-of-type {\n",
       "        vertical-align: middle;\n",
       "    }\n",
       "\n",
       "    .dataframe tbody tr th {\n",
       "        vertical-align: top;\n",
       "    }\n",
       "\n",
       "    .dataframe thead th {\n",
       "        text-align: right;\n",
       "    }\n",
       "</style>\n",
       "<table border=\"1\" class=\"dataframe\">\n",
       "  <thead>\n",
       "    <tr style=\"text-align: right;\">\n",
       "      <th></th>\n",
       "      <th>Latitude</th>\n",
       "      <th>Longitude</th>\n",
       "      <th>name</th>\n",
       "      <th>distance</th>\n",
       "      <th>address</th>\n",
       "      <th>telephone</th>\n",
       "      <th>rating</th>\n",
       "      <th>open_true</th>\n",
       "    </tr>\n",
       "  </thead>\n",
       "  <tbody>\n",
       "    <tr>\n",
       "      <th>1725</th>\n",
       "      <td>43.681122</td>\n",
       "      <td>-79.429253</td>\n",
       "      <td>Pukka</td>\n",
       "      <td>779</td>\n",
       "      <td>778 St Clair Ave W (at Arlington Ave), Toronto...</td>\n",
       "      <td>(416) 342-1906</td>\n",
       "      <td>9.2</td>\n",
       "      <td>True</td>\n",
       "    </tr>\n",
       "    <tr>\n",
       "      <th>812</th>\n",
       "      <td>43.681122</td>\n",
       "      <td>-79.429253</td>\n",
       "      <td>Pukka</td>\n",
       "      <td>869</td>\n",
       "      <td>778 St Clair Ave W (at Arlington Ave), Toronto...</td>\n",
       "      <td>(416) 342-1906</td>\n",
       "      <td>9.2</td>\n",
       "      <td>True</td>\n",
       "    </tr>\n",
       "    <tr>\n",
       "      <th>502</th>\n",
       "      <td>43.681122</td>\n",
       "      <td>-79.429253</td>\n",
       "      <td>Pukka</td>\n",
       "      <td>363</td>\n",
       "      <td>778 St Clair Ave W (at Arlington Ave), Toronto...</td>\n",
       "      <td>(416) 342-1906</td>\n",
       "      <td>9.2</td>\n",
       "      <td>True</td>\n",
       "    </tr>\n",
       "    <tr>\n",
       "      <th>2680</th>\n",
       "      <td>43.681122</td>\n",
       "      <td>-79.429253</td>\n",
       "      <td>Pukka</td>\n",
       "      <td>590</td>\n",
       "      <td>778 St Clair Ave W (at Arlington Ave), Toronto...</td>\n",
       "      <td>(416) 342-1906</td>\n",
       "      <td>9.2</td>\n",
       "      <td>True</td>\n",
       "    </tr>\n",
       "    <tr>\n",
       "      <th>1630</th>\n",
       "      <td>43.681122</td>\n",
       "      <td>-79.429253</td>\n",
       "      <td>Pukka</td>\n",
       "      <td>695</td>\n",
       "      <td>778 St Clair Ave W (at Arlington Ave), Toronto...</td>\n",
       "      <td>(416) 342-1906</td>\n",
       "      <td>9.2</td>\n",
       "      <td>True</td>\n",
       "    </tr>\n",
       "    <tr>\n",
       "      <th>2688</th>\n",
       "      <td>43.681122</td>\n",
       "      <td>-79.429253</td>\n",
       "      <td>Pukka</td>\n",
       "      <td>452</td>\n",
       "      <td>778 St Clair Ave W (at Arlington Ave), Toronto...</td>\n",
       "      <td>(416) 342-1906</td>\n",
       "      <td>9.2</td>\n",
       "      <td>True</td>\n",
       "    </tr>\n",
       "    <tr>\n",
       "      <th>1523</th>\n",
       "      <td>43.681122</td>\n",
       "      <td>-79.429253</td>\n",
       "      <td>Pukka</td>\n",
       "      <td>124</td>\n",
       "      <td>778 St Clair Ave W (at Arlington Ave), Toronto...</td>\n",
       "      <td>(416) 342-1906</td>\n",
       "      <td>9.2</td>\n",
       "      <td>True</td>\n",
       "    </tr>\n",
       "    <tr>\n",
       "      <th>1921</th>\n",
       "      <td>43.681122</td>\n",
       "      <td>-79.429253</td>\n",
       "      <td>Pukka</td>\n",
       "      <td>854</td>\n",
       "      <td>778 St Clair Ave W (at Arlington Ave), Toronto...</td>\n",
       "      <td>(416) 342-1906</td>\n",
       "      <td>9.2</td>\n",
       "      <td>True</td>\n",
       "    </tr>\n",
       "    <tr>\n",
       "      <th>2321</th>\n",
       "      <td>43.681122</td>\n",
       "      <td>-79.429253</td>\n",
       "      <td>Pukka</td>\n",
       "      <td>913</td>\n",
       "      <td>778 St Clair Ave W (at Arlington Ave), Toronto...</td>\n",
       "      <td>(416) 342-1906</td>\n",
       "      <td>9.2</td>\n",
       "      <td>True</td>\n",
       "    </tr>\n",
       "    <tr>\n",
       "      <th>1681</th>\n",
       "      <td>43.681122</td>\n",
       "      <td>-79.429253</td>\n",
       "      <td>Pukka</td>\n",
       "      <td>272</td>\n",
       "      <td>778 St Clair Ave W (at Arlington Ave), Toronto...</td>\n",
       "      <td>(416) 342-1906</td>\n",
       "      <td>9.2</td>\n",
       "      <td>True</td>\n",
       "    </tr>\n",
       "  </tbody>\n",
       "</table>\n",
       "</div>"
      ],
      "text/plain": [
       "       Latitude  Longitude   name  distance  \\\n",
       "1725  43.681122 -79.429253  Pukka       779   \n",
       "812   43.681122 -79.429253  Pukka       869   \n",
       "502   43.681122 -79.429253  Pukka       363   \n",
       "2680  43.681122 -79.429253  Pukka       590   \n",
       "1630  43.681122 -79.429253  Pukka       695   \n",
       "2688  43.681122 -79.429253  Pukka       452   \n",
       "1523  43.681122 -79.429253  Pukka       124   \n",
       "1921  43.681122 -79.429253  Pukka       854   \n",
       "2321  43.681122 -79.429253  Pukka       913   \n",
       "1681  43.681122 -79.429253  Pukka       272   \n",
       "\n",
       "                                                address       telephone  \\\n",
       "1725  778 St Clair Ave W (at Arlington Ave), Toronto...  (416) 342-1906   \n",
       "812   778 St Clair Ave W (at Arlington Ave), Toronto...  (416) 342-1906   \n",
       "502   778 St Clair Ave W (at Arlington Ave), Toronto...  (416) 342-1906   \n",
       "2680  778 St Clair Ave W (at Arlington Ave), Toronto...  (416) 342-1906   \n",
       "1630  778 St Clair Ave W (at Arlington Ave), Toronto...  (416) 342-1906   \n",
       "2688  778 St Clair Ave W (at Arlington Ave), Toronto...  (416) 342-1906   \n",
       "1523  778 St Clair Ave W (at Arlington Ave), Toronto...  (416) 342-1906   \n",
       "1921  778 St Clair Ave W (at Arlington Ave), Toronto...  (416) 342-1906   \n",
       "2321  778 St Clair Ave W (at Arlington Ave), Toronto...  (416) 342-1906   \n",
       "1681  778 St Clair Ave W (at Arlington Ave), Toronto...  (416) 342-1906   \n",
       "\n",
       "      rating  open_true  \n",
       "1725     9.2       True  \n",
       "812      9.2       True  \n",
       "502      9.2       True  \n",
       "2680     9.2       True  \n",
       "1630     9.2       True  \n",
       "2688     9.2       True  \n",
       "1523     9.2       True  \n",
       "1921     9.2       True  \n",
       "2321     9.2       True  \n",
       "1681     9.2       True  "
      ]
     },
     "execution_count": 61,
     "metadata": {},
     "output_type": "execute_result"
    }
   ],
   "source": [
    "# indian_restaurants foursquare result \n",
    "fsq_restaurant.sort_values(by='rating',ascending=False).head(10)"
   ]
  },
  {
   "cell_type": "code",
   "execution_count": 60,
   "metadata": {
    "scrolled": true,
    "tags": []
   },
   "outputs": [
    {
     "data": {
      "text/html": [
       "<div>\n",
       "<style scoped>\n",
       "    .dataframe tbody tr th:only-of-type {\n",
       "        vertical-align: middle;\n",
       "    }\n",
       "\n",
       "    .dataframe tbody tr th {\n",
       "        vertical-align: top;\n",
       "    }\n",
       "\n",
       "    .dataframe thead th {\n",
       "        text-align: right;\n",
       "    }\n",
       "</style>\n",
       "<table border=\"1\" class=\"dataframe\">\n",
       "  <thead>\n",
       "    <tr style=\"text-align: right;\">\n",
       "      <th></th>\n",
       "      <th>name</th>\n",
       "      <th>distance</th>\n",
       "      <th>latitude</th>\n",
       "      <th>longitude</th>\n",
       "      <th>address</th>\n",
       "      <th>telephone</th>\n",
       "      <th>rating</th>\n",
       "      <th>review_counts</th>\n",
       "      <th>closed</th>\n",
       "    </tr>\n",
       "  </thead>\n",
       "  <tbody>\n",
       "    <tr>\n",
       "      <th>2215</th>\n",
       "      <td>Ladybug Wine Bar</td>\n",
       "      <td>531.176279</td>\n",
       "      <td>43.656593</td>\n",
       "      <td>-79.357109</td>\n",
       "      <td>['514 King Street E', 'Toronto, ON M5A 1M1', '...</td>\n",
       "      <td>NaN</td>\n",
       "      <td>5.0</td>\n",
       "      <td>3</td>\n",
       "      <td>False</td>\n",
       "    </tr>\n",
       "    <tr>\n",
       "      <th>7170</th>\n",
       "      <td>Old Town Bodega</td>\n",
       "      <td>846.750219</td>\n",
       "      <td>43.654200</td>\n",
       "      <td>-79.360990</td>\n",
       "      <td>['402 King St E', 'Toronto, ON M5A 1L4', 'Cana...</td>\n",
       "      <td>NaN</td>\n",
       "      <td>5.0</td>\n",
       "      <td>9</td>\n",
       "      <td>False</td>\n",
       "    </tr>\n",
       "    <tr>\n",
       "      <th>7233</th>\n",
       "      <td>Slayer Burger</td>\n",
       "      <td>59.909211</td>\n",
       "      <td>43.701051</td>\n",
       "      <td>-79.396936</td>\n",
       "      <td>['2013 Yonge Street', 'Toronto, ON M4S 1Z8', '...</td>\n",
       "      <td>+1 416-846-3786</td>\n",
       "      <td>5.0</td>\n",
       "      <td>7</td>\n",
       "      <td>False</td>\n",
       "    </tr>\n",
       "    <tr>\n",
       "      <th>7231</th>\n",
       "      <td>Samba Brazil Eatery</td>\n",
       "      <td>300.438829</td>\n",
       "      <td>43.703299</td>\n",
       "      <td>-79.397444</td>\n",
       "      <td>['2109  Yonge Street', 'Toronto, ON M4S 2A4', ...</td>\n",
       "      <td>+1 437-880-7808</td>\n",
       "      <td>5.0</td>\n",
       "      <td>1</td>\n",
       "      <td>False</td>\n",
       "    </tr>\n",
       "    <tr>\n",
       "      <th>4187</th>\n",
       "      <td>Rikki Tikki</td>\n",
       "      <td>627.646346</td>\n",
       "      <td>43.654081</td>\n",
       "      <td>-79.401486</td>\n",
       "      <td>['209 Augusta Avenue', 'Toronto, ON M5T 2L4', ...</td>\n",
       "      <td>+1 416-792-3229</td>\n",
       "      <td>5.0</td>\n",
       "      <td>27</td>\n",
       "      <td>False</td>\n",
       "    </tr>\n",
       "    <tr>\n",
       "      <th>7214</th>\n",
       "      <td>Gurume Sushi</td>\n",
       "      <td>755.419915</td>\n",
       "      <td>43.661391</td>\n",
       "      <td>-79.380995</td>\n",
       "      <td>['45 Carlton Street', 'unit 5', 'Toronto, ON M...</td>\n",
       "      <td>+1 416-901-8333</td>\n",
       "      <td>5.0</td>\n",
       "      <td>56</td>\n",
       "      <td>False</td>\n",
       "    </tr>\n",
       "    <tr>\n",
       "      <th>7201</th>\n",
       "      <td>Momo Ghar</td>\n",
       "      <td>408.060026</td>\n",
       "      <td>43.667410</td>\n",
       "      <td>-79.369530</td>\n",
       "      <td>['568 Parliament St', 'Toronto, ON M4X 1P6', '...</td>\n",
       "      <td>+1 416-920-8224</td>\n",
       "      <td>5.0</td>\n",
       "      <td>13</td>\n",
       "      <td>False</td>\n",
       "    </tr>\n",
       "    <tr>\n",
       "      <th>7198</th>\n",
       "      <td>Afghano Restaurant</td>\n",
       "      <td>668.858582</td>\n",
       "      <td>43.655715</td>\n",
       "      <td>-79.364637</td>\n",
       "      <td>['344 Queen Street E', 'Unit 1', 'Toronto, ON ...</td>\n",
       "      <td>+1 647-906-2269</td>\n",
       "      <td>5.0</td>\n",
       "      <td>1</td>\n",
       "      <td>False</td>\n",
       "    </tr>\n",
       "    <tr>\n",
       "      <th>4213</th>\n",
       "      <td>Haidilao Hot Pot</td>\n",
       "      <td>324.541353</td>\n",
       "      <td>43.654633</td>\n",
       "      <td>-79.379839</td>\n",
       "      <td>['237 Yonge Street', 'Toronto, ON M5B 1N8', 'C...</td>\n",
       "      <td>+1 437-778-1068</td>\n",
       "      <td>5.0</td>\n",
       "      <td>34</td>\n",
       "      <td>False</td>\n",
       "    </tr>\n",
       "    <tr>\n",
       "      <th>4215</th>\n",
       "      <td>Gurume Sushi</td>\n",
       "      <td>441.165056</td>\n",
       "      <td>43.661391</td>\n",
       "      <td>-79.380995</td>\n",
       "      <td>['45 Carlton Street', 'unit 5', 'Toronto, ON M...</td>\n",
       "      <td>+1 416-901-8333</td>\n",
       "      <td>5.0</td>\n",
       "      <td>56</td>\n",
       "      <td>False</td>\n",
       "    </tr>\n",
       "  </tbody>\n",
       "</table>\n",
       "</div>"
      ],
      "text/plain": [
       "                     name    distance   latitude  longitude  \\\n",
       "2215     Ladybug Wine Bar  531.176279  43.656593 -79.357109   \n",
       "7170      Old Town Bodega  846.750219  43.654200 -79.360990   \n",
       "7233        Slayer Burger   59.909211  43.701051 -79.396936   \n",
       "7231  Samba Brazil Eatery  300.438829  43.703299 -79.397444   \n",
       "4187          Rikki Tikki  627.646346  43.654081 -79.401486   \n",
       "7214         Gurume Sushi  755.419915  43.661391 -79.380995   \n",
       "7201            Momo Ghar  408.060026  43.667410 -79.369530   \n",
       "7198   Afghano Restaurant  668.858582  43.655715 -79.364637   \n",
       "4213     Haidilao Hot Pot  324.541353  43.654633 -79.379839   \n",
       "4215         Gurume Sushi  441.165056  43.661391 -79.380995   \n",
       "\n",
       "                                                address        telephone  \\\n",
       "2215  ['514 King Street E', 'Toronto, ON M5A 1M1', '...              NaN   \n",
       "7170  ['402 King St E', 'Toronto, ON M5A 1L4', 'Cana...              NaN   \n",
       "7233  ['2013 Yonge Street', 'Toronto, ON M4S 1Z8', '...  +1 416-846-3786   \n",
       "7231  ['2109  Yonge Street', 'Toronto, ON M4S 2A4', ...  +1 437-880-7808   \n",
       "4187  ['209 Augusta Avenue', 'Toronto, ON M5T 2L4', ...  +1 416-792-3229   \n",
       "7214  ['45 Carlton Street', 'unit 5', 'Toronto, ON M...  +1 416-901-8333   \n",
       "7201  ['568 Parliament St', 'Toronto, ON M4X 1P6', '...  +1 416-920-8224   \n",
       "7198  ['344 Queen Street E', 'Unit 1', 'Toronto, ON ...  +1 647-906-2269   \n",
       "4213  ['237 Yonge Street', 'Toronto, ON M5B 1N8', 'C...  +1 437-778-1068   \n",
       "4215  ['45 Carlton Street', 'unit 5', 'Toronto, ON M...  +1 416-901-8333   \n",
       "\n",
       "      rating  review_counts  closed  \n",
       "2215     5.0              3   False  \n",
       "7170     5.0              9   False  \n",
       "7233     5.0              7   False  \n",
       "7231     5.0              1   False  \n",
       "4187     5.0             27   False  \n",
       "7214     5.0             56   False  \n",
       "7201     5.0             13   False  \n",
       "7198     5.0              1   False  \n",
       "4213     5.0             34   False  \n",
       "4215     5.0             56   False  "
      ]
     },
     "execution_count": 60,
     "metadata": {},
     "output_type": "execute_result"
    }
   ],
   "source": [
    "# indian restaurant in yelp API\n",
    "yelp_restaurant.sort_values(by='rating', ascending=False).head(10)"
   ]
  },
  {
   "cell_type": "code",
   "execution_count": null,
   "metadata": {},
   "outputs": [],
   "source": []
  }
 ],
 "metadata": {
  "kernelspec": {
   "display_name": "Python 3 (ipykernel)",
   "language": "python",
   "name": "python3"
  },
  "language_info": {
   "codemirror_mode": {
    "name": "ipython",
    "version": 3
   },
   "file_extension": ".py",
   "mimetype": "text/x-python",
   "name": "python",
   "nbconvert_exporter": "python",
   "pygments_lexer": "ipython3",
   "version": "3.11.4"
  }
 },
 "nbformat": 4,
 "nbformat_minor": 4
}
