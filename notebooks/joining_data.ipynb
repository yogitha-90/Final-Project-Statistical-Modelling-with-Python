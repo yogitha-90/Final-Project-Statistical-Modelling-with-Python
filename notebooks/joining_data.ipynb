{
 "cells": [
  {
   "cell_type": "code",
   "execution_count": 45,
   "metadata": {
    "tags": []
   },
   "outputs": [],
   "source": [
    "import pandas as pd\n",
    "import numpy as np"
   ]
  },
  {
   "cell_type": "markdown",
   "metadata": {},
   "source": [
    "Join the data from Part 1 with the data from Part 2 to create a new dataframe."
   ]
  },
  {
   "cell_type": "markdown",
   "metadata": {},
   "source": [
    "Explanation : \n",
    "\n",
    "   Joining the dataframe together creating a result in sqlite\n",
    "   importing results from database created\n",
    "   Data Visualization Part: Check in Database section"
   ]
  },
  {
   "cell_type": "code",
   "execution_count": 46,
   "metadata": {
    "tags": []
   },
   "outputs": [],
   "source": [
    "Bike_stations = pd.read_csv('C:\\\\Users\\\\Karthik Gelli\\\\Downloads\\\\statistical Modelling using python\\\\project-2\\\\data\\\\Bike_stations.csv', delimiter =',')"
   ]
  },
  {
   "cell_type": "code",
   "execution_count": 47,
   "metadata": {
    "tags": []
   },
   "outputs": [],
   "source": [
    "# renaming lattitude and longitude column to avoid confusion with restaurant data\n",
    "Bike_stations = Bike_stations.rename(columns={'Latitude': 'station_lat',\n",
    "                                              'Longitude': 'station_lon'})"
   ]
  },
  {
   "cell_type": "code",
   "execution_count": 48,
   "metadata": {
    "tags": []
   },
   "outputs": [
    {
     "data": {
      "text/html": [
       "<div>\n",
       "<style scoped>\n",
       "    .dataframe tbody tr th:only-of-type {\n",
       "        vertical-align: middle;\n",
       "    }\n",
       "\n",
       "    .dataframe tbody tr th {\n",
       "        vertical-align: top;\n",
       "    }\n",
       "\n",
       "    .dataframe thead th {\n",
       "        text-align: right;\n",
       "    }\n",
       "</style>\n",
       "<table border=\"1\" class=\"dataframe\">\n",
       "  <thead>\n",
       "    <tr style=\"text-align: right;\">\n",
       "      <th></th>\n",
       "      <th>Station Name</th>\n",
       "      <th>station_lat</th>\n",
       "      <th>station_lon</th>\n",
       "      <th>Bikes Available</th>\n",
       "    </tr>\n",
       "  </thead>\n",
       "  <tbody>\n",
       "    <tr>\n",
       "      <th>0</th>\n",
       "      <td>Queen St E / Woodward Ave</td>\n",
       "      <td>43.665269</td>\n",
       "      <td>-79.319796</td>\n",
       "      <td>14</td>\n",
       "    </tr>\n",
       "    <tr>\n",
       "      <th>1</th>\n",
       "      <td>Primrose Ave / Davenport Rd</td>\n",
       "      <td>43.671420</td>\n",
       "      <td>-79.445947</td>\n",
       "      <td>0</td>\n",
       "    </tr>\n",
       "    <tr>\n",
       "      <th>2</th>\n",
       "      <td>Queen St. E / Rhodes Ave.</td>\n",
       "      <td>43.666224</td>\n",
       "      <td>-79.317693</td>\n",
       "      <td>21</td>\n",
       "    </tr>\n",
       "    <tr>\n",
       "      <th>3</th>\n",
       "      <td>Bond St / Queen St E</td>\n",
       "      <td>43.653236</td>\n",
       "      <td>-79.376716</td>\n",
       "      <td>4</td>\n",
       "    </tr>\n",
       "    <tr>\n",
       "      <th>4</th>\n",
       "      <td>Church St / Alexander St</td>\n",
       "      <td>43.663722</td>\n",
       "      <td>-79.380288</td>\n",
       "      <td>7</td>\n",
       "    </tr>\n",
       "    <tr>\n",
       "      <th>...</th>\n",
       "      <td>...</td>\n",
       "      <td>...</td>\n",
       "      <td>...</td>\n",
       "      <td>...</td>\n",
       "    </tr>\n",
       "    <tr>\n",
       "      <th>701</th>\n",
       "      <td>Galbraith Rd / King's College Rd</td>\n",
       "      <td>43.660387</td>\n",
       "      <td>-79.395378</td>\n",
       "      <td>0</td>\n",
       "    </tr>\n",
       "    <tr>\n",
       "      <th>702</th>\n",
       "      <td>Exhibition GO Station</td>\n",
       "      <td>43.635201</td>\n",
       "      <td>-79.418771</td>\n",
       "      <td>12</td>\n",
       "    </tr>\n",
       "    <tr>\n",
       "      <th>703</th>\n",
       "      <td>Princes' Blvd / Nunavut Rd</td>\n",
       "      <td>43.633352</td>\n",
       "      <td>-79.414363</td>\n",
       "      <td>6</td>\n",
       "    </tr>\n",
       "    <tr>\n",
       "      <th>704</th>\n",
       "      <td>800 Fleet St</td>\n",
       "      <td>43.636804</td>\n",
       "      <td>-79.408832</td>\n",
       "      <td>17</td>\n",
       "    </tr>\n",
       "    <tr>\n",
       "      <th>705</th>\n",
       "      <td>Finch Subway Station</td>\n",
       "      <td>43.781877</td>\n",
       "      <td>-79.415285</td>\n",
       "      <td>0</td>\n",
       "    </tr>\n",
       "  </tbody>\n",
       "</table>\n",
       "<p>706 rows × 4 columns</p>\n",
       "</div>"
      ],
      "text/plain": [
       "                         Station Name  station_lat  station_lon  \\\n",
       "0           Queen St E / Woodward Ave    43.665269   -79.319796   \n",
       "1         Primrose Ave / Davenport Rd    43.671420   -79.445947   \n",
       "2           Queen St. E / Rhodes Ave.    43.666224   -79.317693   \n",
       "3                Bond St / Queen St E    43.653236   -79.376716   \n",
       "4            Church St / Alexander St    43.663722   -79.380288   \n",
       "..                                ...          ...          ...   \n",
       "701  Galbraith Rd / King's College Rd    43.660387   -79.395378   \n",
       "702             Exhibition GO Station    43.635201   -79.418771   \n",
       "703        Princes' Blvd / Nunavut Rd    43.633352   -79.414363   \n",
       "704                      800 Fleet St    43.636804   -79.408832   \n",
       "705             Finch Subway Station     43.781877   -79.415285   \n",
       "\n",
       "     Bikes Available  \n",
       "0                 14  \n",
       "1                  0  \n",
       "2                 21  \n",
       "3                  4  \n",
       "4                  7  \n",
       "..               ...  \n",
       "701                0  \n",
       "702               12  \n",
       "703                6  \n",
       "704               17  \n",
       "705                0  \n",
       "\n",
       "[706 rows x 4 columns]"
      ]
     },
     "execution_count": 48,
     "metadata": {},
     "output_type": "execute_result"
    }
   ],
   "source": [
    "Bike_stations"
   ]
  },
  {
   "cell_type": "code",
   "execution_count": 49,
   "metadata": {
    "tags": []
   },
   "outputs": [],
   "source": [
    "yelp_restaurant = pd.read_csv('C:\\\\Users\\\\Karthik Gelli\\\\Downloads\\\\statistical Modelling using python\\\\project-2\\\\data\\\\yelp_restaurant.csv', delimiter =',')"
   ]
  },
  {
   "cell_type": "code",
   "execution_count": 50,
   "metadata": {
    "tags": []
   },
   "outputs": [],
   "source": [
    "#renaming latitude and longitude column to avoid confusion with bike_station data\n",
    "yelp_restaurant = yelp_restaurant.rename(columns={'latitude': 'restaurant_lat',\n",
    "                                              'longitude': 'restaurant_lon'})"
   ]
  },
  {
   "cell_type": "code",
   "execution_count": 51,
   "metadata": {
    "tags": []
   },
   "outputs": [
    {
     "data": {
      "text/html": [
       "<div>\n",
       "<style scoped>\n",
       "    .dataframe tbody tr th:only-of-type {\n",
       "        vertical-align: middle;\n",
       "    }\n",
       "\n",
       "    .dataframe tbody tr th {\n",
       "        vertical-align: top;\n",
       "    }\n",
       "\n",
       "    .dataframe thead th {\n",
       "        text-align: right;\n",
       "    }\n",
       "</style>\n",
       "<table border=\"1\" class=\"dataframe\">\n",
       "  <thead>\n",
       "    <tr style=\"text-align: right;\">\n",
       "      <th></th>\n",
       "      <th>name</th>\n",
       "      <th>distance</th>\n",
       "      <th>restaurant_lat</th>\n",
       "      <th>restaurant_lon</th>\n",
       "      <th>address</th>\n",
       "      <th>telephone</th>\n",
       "      <th>rating</th>\n",
       "      <th>review_counts</th>\n",
       "      <th>closed</th>\n",
       "    </tr>\n",
       "  </thead>\n",
       "  <tbody>\n",
       "    <tr>\n",
       "      <th>0</th>\n",
       "      <td>Jaclyn's</td>\n",
       "      <td>172.375134</td>\n",
       "      <td>43.666270</td>\n",
       "      <td>-79.318020</td>\n",
       "      <td>['1588 Queen Street E', 'Toronto, ON M4L 1G1',...</td>\n",
       "      <td>+1 647-901-8809</td>\n",
       "      <td>4.5</td>\n",
       "      <td>16</td>\n",
       "      <td>False</td>\n",
       "    </tr>\n",
       "    <tr>\n",
       "      <th>1</th>\n",
       "      <td>Lake Inez</td>\n",
       "      <td>794.661955</td>\n",
       "      <td>43.672340</td>\n",
       "      <td>-79.320640</td>\n",
       "      <td>['1471 Gerrard Street E', 'Toronto, ON M4L 2A1...</td>\n",
       "      <td>NaN</td>\n",
       "      <td>4.5</td>\n",
       "      <td>95</td>\n",
       "      <td>False</td>\n",
       "    </tr>\n",
       "    <tr>\n",
       "      <th>2</th>\n",
       "      <td>Tulia Osteria</td>\n",
       "      <td>365.115394</td>\n",
       "      <td>43.664870</td>\n",
       "      <td>-79.324250</td>\n",
       "      <td>['1402 Queen Street E', 'Toronto, ON M4L 1C9',...</td>\n",
       "      <td>+1 416-461-6400</td>\n",
       "      <td>4.5</td>\n",
       "      <td>2</td>\n",
       "      <td>False</td>\n",
       "    </tr>\n",
       "    <tr>\n",
       "      <th>3</th>\n",
       "      <td>Casa Di Giorgios</td>\n",
       "      <td>408.715724</td>\n",
       "      <td>43.666850</td>\n",
       "      <td>-79.315180</td>\n",
       "      <td>['1646 Queen St E', 'Toronto, ON M4L 1G3', 'Ca...</td>\n",
       "      <td>+1 416-686-7066</td>\n",
       "      <td>4.0</td>\n",
       "      <td>75</td>\n",
       "      <td>False</td>\n",
       "    </tr>\n",
       "    <tr>\n",
       "      <th>4</th>\n",
       "      <td>Betty’s East</td>\n",
       "      <td>689.778721</td>\n",
       "      <td>43.663455</td>\n",
       "      <td>-79.327992</td>\n",
       "      <td>['1301 Queen Street E', 'Toronto, ON M4L 1C2',...</td>\n",
       "      <td>+1 416-901-5575</td>\n",
       "      <td>3.5</td>\n",
       "      <td>6</td>\n",
       "      <td>False</td>\n",
       "    </tr>\n",
       "    <tr>\n",
       "      <th>...</th>\n",
       "      <td>...</td>\n",
       "      <td>...</td>\n",
       "      <td>...</td>\n",
       "      <td>...</td>\n",
       "      <td>...</td>\n",
       "      <td>...</td>\n",
       "      <td>...</td>\n",
       "      <td>...</td>\n",
       "      <td>...</td>\n",
       "    </tr>\n",
       "    <tr>\n",
       "      <th>9526</th>\n",
       "      <td>Sorrel</td>\n",
       "      <td>500.490388</td>\n",
       "      <td>43.680241</td>\n",
       "      <td>-79.391182</td>\n",
       "      <td>['1158 Yonge Street', 'Toronto, ON M4W 2L9', '...</td>\n",
       "      <td>+1 416-926-1010</td>\n",
       "      <td>3.5</td>\n",
       "      <td>34</td>\n",
       "      <td>False</td>\n",
       "    </tr>\n",
       "    <tr>\n",
       "      <th>9527</th>\n",
       "      <td>Terroni</td>\n",
       "      <td>535.440876</td>\n",
       "      <td>43.680011</td>\n",
       "      <td>-79.390519</td>\n",
       "      <td>['1095 Yonge Street', 'Toronto, ON M4W 2L8', '...</td>\n",
       "      <td>+1 416-925-4020</td>\n",
       "      <td>3.0</td>\n",
       "      <td>321</td>\n",
       "      <td>False</td>\n",
       "    </tr>\n",
       "    <tr>\n",
       "      <th>9528</th>\n",
       "      <td>Spiga Ristorante</td>\n",
       "      <td>201.636222</td>\n",
       "      <td>43.686230</td>\n",
       "      <td>-79.393540</td>\n",
       "      <td>['1378 Yonge Street', 'Toronto, ON M4T 1Y5', '...</td>\n",
       "      <td>+1 416-960-1500</td>\n",
       "      <td>3.5</td>\n",
       "      <td>17</td>\n",
       "      <td>False</td>\n",
       "    </tr>\n",
       "    <tr>\n",
       "      <th>9529</th>\n",
       "      <td>Grandma Loves You</td>\n",
       "      <td>776.351005</td>\n",
       "      <td>43.677846</td>\n",
       "      <td>-79.390108</td>\n",
       "      <td>['1084 Yonge Street', 'Toronto, ON M4W 2L4', '...</td>\n",
       "      <td>+1 416-925-5547</td>\n",
       "      <td>5.0</td>\n",
       "      <td>76</td>\n",
       "      <td>False</td>\n",
       "    </tr>\n",
       "    <tr>\n",
       "      <th>9530</th>\n",
       "      <td>The Sprout</td>\n",
       "      <td>411.843661</td>\n",
       "      <td>43.687565</td>\n",
       "      <td>-79.395561</td>\n",
       "      <td>['15 St.Clair Avenue W', 'Toronto, ON M4V 1K6'...</td>\n",
       "      <td>+1 416-929-2541</td>\n",
       "      <td>3.5</td>\n",
       "      <td>40</td>\n",
       "      <td>False</td>\n",
       "    </tr>\n",
       "  </tbody>\n",
       "</table>\n",
       "<p>9531 rows × 9 columns</p>\n",
       "</div>"
      ],
      "text/plain": [
       "                   name    distance  restaurant_lat  restaurant_lon  \\\n",
       "0              Jaclyn's  172.375134       43.666270      -79.318020   \n",
       "1             Lake Inez  794.661955       43.672340      -79.320640   \n",
       "2         Tulia Osteria  365.115394       43.664870      -79.324250   \n",
       "3      Casa Di Giorgios  408.715724       43.666850      -79.315180   \n",
       "4          Betty’s East  689.778721       43.663455      -79.327992   \n",
       "...                 ...         ...             ...             ...   \n",
       "9526             Sorrel  500.490388       43.680241      -79.391182   \n",
       "9527            Terroni  535.440876       43.680011      -79.390519   \n",
       "9528   Spiga Ristorante  201.636222       43.686230      -79.393540   \n",
       "9529  Grandma Loves You  776.351005       43.677846      -79.390108   \n",
       "9530         The Sprout  411.843661       43.687565      -79.395561   \n",
       "\n",
       "                                                address        telephone  \\\n",
       "0     ['1588 Queen Street E', 'Toronto, ON M4L 1G1',...  +1 647-901-8809   \n",
       "1     ['1471 Gerrard Street E', 'Toronto, ON M4L 2A1...              NaN   \n",
       "2     ['1402 Queen Street E', 'Toronto, ON M4L 1C9',...  +1 416-461-6400   \n",
       "3     ['1646 Queen St E', 'Toronto, ON M4L 1G3', 'Ca...  +1 416-686-7066   \n",
       "4     ['1301 Queen Street E', 'Toronto, ON M4L 1C2',...  +1 416-901-5575   \n",
       "...                                                 ...              ...   \n",
       "9526  ['1158 Yonge Street', 'Toronto, ON M4W 2L9', '...  +1 416-926-1010   \n",
       "9527  ['1095 Yonge Street', 'Toronto, ON M4W 2L8', '...  +1 416-925-4020   \n",
       "9528  ['1378 Yonge Street', 'Toronto, ON M4T 1Y5', '...  +1 416-960-1500   \n",
       "9529  ['1084 Yonge Street', 'Toronto, ON M4W 2L4', '...  +1 416-925-5547   \n",
       "9530  ['15 St.Clair Avenue W', 'Toronto, ON M4V 1K6'...  +1 416-929-2541   \n",
       "\n",
       "      rating  review_counts  closed  \n",
       "0        4.5             16   False  \n",
       "1        4.5             95   False  \n",
       "2        4.5              2   False  \n",
       "3        4.0             75   False  \n",
       "4        3.5              6   False  \n",
       "...      ...            ...     ...  \n",
       "9526     3.5             34   False  \n",
       "9527     3.0            321   False  \n",
       "9528     3.5             17   False  \n",
       "9529     5.0             76   False  \n",
       "9530     3.5             40   False  \n",
       "\n",
       "[9531 rows x 9 columns]"
      ]
     },
     "execution_count": 51,
     "metadata": {},
     "output_type": "execute_result"
    }
   ],
   "source": [
    "yelp_restaurant"
   ]
  },
  {
   "cell_type": "code",
   "execution_count": null,
   "metadata": {},
   "outputs": [],
   "source": []
  },
  {
   "cell_type": "code",
   "execution_count": null,
   "metadata": {},
   "outputs": [],
   "source": []
  },
  {
   "cell_type": "code",
   "execution_count": null,
   "metadata": {},
   "outputs": [],
   "source": []
  },
  {
   "cell_type": "code",
   "execution_count": null,
   "metadata": {},
   "outputs": [],
   "source": []
  },
  {
   "cell_type": "code",
   "execution_count": null,
   "metadata": {},
   "outputs": [],
   "source": []
  },
  {
   "cell_type": "markdown",
   "metadata": {},
   "source": [
    "# Database"
   ]
  },
  {
   "cell_type": "markdown",
   "metadata": {},
   "source": [
    "Put all your results in an SQLite3 database (remember, SQLite stores its databases as files in your local machine - make sure to create your database in your project's data/ directory!)"
   ]
  },
  {
   "cell_type": "code",
   "execution_count": 52,
   "metadata": {
    "tags": []
   },
   "outputs": [],
   "source": [
    "import sqlite3\n",
    "from sqlite3 import Error\n",
    "\n",
    "def create_connection(path):\n",
    "    connection = None\n",
    "    try:\n",
    "        connection = sqlite3.connect(path)\n",
    "        print(\"Connection to SQLite DB successful\")\n",
    "    except Error as e:\n",
    "        print(f\"The error '{e}' occurred\")\n",
    "\n",
    "    return connection"
   ]
  },
  {
   "cell_type": "code",
   "execution_count": 53,
   "metadata": {
    "scrolled": true,
    "tags": []
   },
   "outputs": [
    {
     "name": "stdout",
     "output_type": "stream",
     "text": [
      "Connection to SQLite DB successful\n"
     ]
    }
   ],
   "source": [
    "# creating our database into project file\n",
    "connection = create_connection(\"C:\\\\Users\\\\Karthik Gelli\\\\Downloads\\\\statistical Modelling using python\\\\project-2\\\\db_connection.db\")"
   ]
  },
  {
   "cell_type": "code",
   "execution_count": 54,
   "metadata": {
    "tags": []
   },
   "outputs": [
    {
     "data": {
      "text/plain": [
       "706"
      ]
     },
     "execution_count": 54,
     "metadata": {},
     "output_type": "execute_result"
    }
   ],
   "source": [
    "# insert data from Bike_station dataframe\n",
    "Bike_stations.to_sql('Bike_stations', connection, if_exists='replace', index=False)"
   ]
  },
  {
   "cell_type": "code",
   "execution_count": 55,
   "metadata": {
    "tags": []
   },
   "outputs": [
    {
     "data": {
      "text/plain": [
       "9531"
      ]
     },
     "execution_count": 55,
     "metadata": {},
     "output_type": "execute_result"
    }
   ],
   "source": [
    "# insert data from indian_restaurant dataframe\n",
    "yelp_restaurant.to_sql('yelp_restaurant', connection, if_exists='replace',index=False)"
   ]
  },
  {
   "cell_type": "code",
   "execution_count": 56,
   "metadata": {
    "tags": []
   },
   "outputs": [],
   "source": [
    "# commit changes\n",
    "connection.commit()"
   ]
  },
  {
   "cell_type": "code",
   "execution_count": 57,
   "metadata": {
    "tags": []
   },
   "outputs": [],
   "source": [
    "# create a cursor object to execute SQL queries\n",
    "cursor = connection.cursor()"
   ]
  },
  {
   "cell_type": "code",
   "execution_count": 58,
   "metadata": {
    "tags": []
   },
   "outputs": [],
   "source": [
    "# Perform a spatial join between the two tables using a SQL query\n",
    "query = \"\"\"\n",
    "    SELECT bs.*, yr.*\n",
    "    FROM Bike_stations AS bs\n",
    "    JOIN yelp_restaurant AS yr\n",
    "    ON (\n",
    "        ((yr.restaurant_lat - bs.station_lat) * (yr.restaurant_lat - bs.station_lat) +\n",
    "        (yr.restaurant_lon - bs.station_lon) * (yr.restaurant_lon - bs.station_lon)) <= (1.0 / 111.32) * (1.0 / 111.32)  -- 1km radius\n",
    "    )\n",
    "\"\"\"\n"
   ]
  },
  {
   "cell_type": "code",
   "execution_count": 59,
   "metadata": {
    "tags": []
   },
   "outputs": [
    {
     "data": {
      "text/plain": [
       "<sqlite3.Cursor at 0x11654683040>"
      ]
     },
     "execution_count": 59,
     "metadata": {},
     "output_type": "execute_result"
    }
   ],
   "source": [
    "# execute the query\n",
    "cursor.execute(query)"
   ]
  },
  {
   "cell_type": "code",
   "execution_count": 60,
   "metadata": {
    "tags": []
   },
   "outputs": [],
   "source": [
    "# fetch the result\n",
    "result = cursor.fetchall()"
   ]
  },
  {
   "cell_type": "code",
   "execution_count": 61,
   "metadata": {
    "tags": []
   },
   "outputs": [],
   "source": [
    "# create a dataframe from the result\n",
    "result_df = pd.DataFrame(result, columns=[column[0] for column in cursor.description])"
   ]
  },
  {
   "cell_type": "code",
   "execution_count": 62,
   "metadata": {
    "tags": []
   },
   "outputs": [
    {
     "data": {
      "text/html": [
       "<div>\n",
       "<style scoped>\n",
       "    .dataframe tbody tr th:only-of-type {\n",
       "        vertical-align: middle;\n",
       "    }\n",
       "\n",
       "    .dataframe tbody tr th {\n",
       "        vertical-align: top;\n",
       "    }\n",
       "\n",
       "    .dataframe thead th {\n",
       "        text-align: right;\n",
       "    }\n",
       "</style>\n",
       "<table border=\"1\" class=\"dataframe\">\n",
       "  <thead>\n",
       "    <tr style=\"text-align: right;\">\n",
       "      <th></th>\n",
       "      <th>Station Name</th>\n",
       "      <th>station_lat</th>\n",
       "      <th>station_lon</th>\n",
       "      <th>Bikes Available</th>\n",
       "      <th>name</th>\n",
       "      <th>distance</th>\n",
       "      <th>restaurant_lat</th>\n",
       "      <th>restaurant_lon</th>\n",
       "      <th>address</th>\n",
       "      <th>telephone</th>\n",
       "      <th>rating</th>\n",
       "      <th>review_counts</th>\n",
       "      <th>closed</th>\n",
       "    </tr>\n",
       "  </thead>\n",
       "  <tbody>\n",
       "    <tr>\n",
       "      <th>0</th>\n",
       "      <td>Queen St E / Woodward Ave</td>\n",
       "      <td>43.665269</td>\n",
       "      <td>-79.319796</td>\n",
       "      <td>14</td>\n",
       "      <td>Jaclyn's</td>\n",
       "      <td>172.375134</td>\n",
       "      <td>43.666270</td>\n",
       "      <td>-79.318020</td>\n",
       "      <td>['1588 Queen Street E', 'Toronto, ON M4L 1G1',...</td>\n",
       "      <td>+1 647-901-8809</td>\n",
       "      <td>4.5</td>\n",
       "      <td>16</td>\n",
       "      <td>0</td>\n",
       "    </tr>\n",
       "    <tr>\n",
       "      <th>1</th>\n",
       "      <td>Queen St E / Woodward Ave</td>\n",
       "      <td>43.665269</td>\n",
       "      <td>-79.319796</td>\n",
       "      <td>14</td>\n",
       "      <td>Lake Inez</td>\n",
       "      <td>794.661955</td>\n",
       "      <td>43.672340</td>\n",
       "      <td>-79.320640</td>\n",
       "      <td>['1471 Gerrard Street E', 'Toronto, ON M4L 2A1...</td>\n",
       "      <td>None</td>\n",
       "      <td>4.5</td>\n",
       "      <td>95</td>\n",
       "      <td>0</td>\n",
       "    </tr>\n",
       "    <tr>\n",
       "      <th>2</th>\n",
       "      <td>Queen St E / Woodward Ave</td>\n",
       "      <td>43.665269</td>\n",
       "      <td>-79.319796</td>\n",
       "      <td>14</td>\n",
       "      <td>Tulia Osteria</td>\n",
       "      <td>365.115394</td>\n",
       "      <td>43.664870</td>\n",
       "      <td>-79.324250</td>\n",
       "      <td>['1402 Queen Street E', 'Toronto, ON M4L 1C9',...</td>\n",
       "      <td>+1 416-461-6400</td>\n",
       "      <td>4.5</td>\n",
       "      <td>2</td>\n",
       "      <td>0</td>\n",
       "    </tr>\n",
       "    <tr>\n",
       "      <th>3</th>\n",
       "      <td>Queen St E / Woodward Ave</td>\n",
       "      <td>43.665269</td>\n",
       "      <td>-79.319796</td>\n",
       "      <td>14</td>\n",
       "      <td>Casa Di Giorgios</td>\n",
       "      <td>408.715724</td>\n",
       "      <td>43.666850</td>\n",
       "      <td>-79.315180</td>\n",
       "      <td>['1646 Queen St E', 'Toronto, ON M4L 1G3', 'Ca...</td>\n",
       "      <td>+1 416-686-7066</td>\n",
       "      <td>4.0</td>\n",
       "      <td>75</td>\n",
       "      <td>0</td>\n",
       "    </tr>\n",
       "    <tr>\n",
       "      <th>4</th>\n",
       "      <td>Queen St E / Woodward Ave</td>\n",
       "      <td>43.665269</td>\n",
       "      <td>-79.319796</td>\n",
       "      <td>14</td>\n",
       "      <td>Betty’s East</td>\n",
       "      <td>689.778721</td>\n",
       "      <td>43.663455</td>\n",
       "      <td>-79.327992</td>\n",
       "      <td>['1301 Queen Street E', 'Toronto, ON M4L 1C2',...</td>\n",
       "      <td>+1 416-901-5575</td>\n",
       "      <td>3.5</td>\n",
       "      <td>6</td>\n",
       "      <td>0</td>\n",
       "    </tr>\n",
       "    <tr>\n",
       "      <th>...</th>\n",
       "      <td>...</td>\n",
       "      <td>...</td>\n",
       "      <td>...</td>\n",
       "      <td>...</td>\n",
       "      <td>...</td>\n",
       "      <td>...</td>\n",
       "      <td>...</td>\n",
       "      <td>...</td>\n",
       "      <td>...</td>\n",
       "      <td>...</td>\n",
       "      <td>...</td>\n",
       "      <td>...</td>\n",
       "      <td>...</td>\n",
       "    </tr>\n",
       "    <tr>\n",
       "      <th>203762</th>\n",
       "      <td>800 Fleet St</td>\n",
       "      <td>43.636804</td>\n",
       "      <td>-79.408832</td>\n",
       "      <td>17</td>\n",
       "      <td>BaoBird Fried Chicken &amp; Baos</td>\n",
       "      <td>802.719367</td>\n",
       "      <td>43.640584</td>\n",
       "      <td>-79.402567</td>\n",
       "      <td>['28 Bathurst Street', 'Toronto, ON M5V 0C6', ...</td>\n",
       "      <td>None</td>\n",
       "      <td>5.0</td>\n",
       "      <td>1</td>\n",
       "      <td>0</td>\n",
       "    </tr>\n",
       "    <tr>\n",
       "      <th>203763</th>\n",
       "      <td>800 Fleet St</td>\n",
       "      <td>43.636804</td>\n",
       "      <td>-79.408832</td>\n",
       "      <td>17</td>\n",
       "      <td>UBE Night Market</td>\n",
       "      <td>260.249900</td>\n",
       "      <td>43.637334</td>\n",
       "      <td>-79.409135</td>\n",
       "      <td>['250 Fort York Boulevard', 'Unit 57', 'The Be...</td>\n",
       "      <td>None</td>\n",
       "      <td>5.0</td>\n",
       "      <td>1</td>\n",
       "      <td>0</td>\n",
       "    </tr>\n",
       "    <tr>\n",
       "      <th>203764</th>\n",
       "      <td>800 Fleet St</td>\n",
       "      <td>43.636804</td>\n",
       "      <td>-79.408832</td>\n",
       "      <td>17</td>\n",
       "      <td>Roses Cocina</td>\n",
       "      <td>293.778794</td>\n",
       "      <td>43.633214</td>\n",
       "      <td>-79.411579</td>\n",
       "      <td>['111 Princes  Boulevard', 'Floor 2', 'Toronto...</td>\n",
       "      <td>+1 647-259-6825</td>\n",
       "      <td>3.0</td>\n",
       "      <td>13</td>\n",
       "      <td>0</td>\n",
       "    </tr>\n",
       "    <tr>\n",
       "      <th>203765</th>\n",
       "      <td>800 Fleet St</td>\n",
       "      <td>43.636804</td>\n",
       "      <td>-79.408832</td>\n",
       "      <td>17</td>\n",
       "      <td>Liberty Soho</td>\n",
       "      <td>755.786002</td>\n",
       "      <td>43.638467</td>\n",
       "      <td>-79.416825</td>\n",
       "      <td>['139 E Liberty Street', 'Toronto, ON M6K 3K4'...</td>\n",
       "      <td>None</td>\n",
       "      <td>3.5</td>\n",
       "      <td>11</td>\n",
       "      <td>0</td>\n",
       "    </tr>\n",
       "    <tr>\n",
       "      <th>203766</th>\n",
       "      <td>800 Fleet St</td>\n",
       "      <td>43.636804</td>\n",
       "      <td>-79.408832</td>\n",
       "      <td>17</td>\n",
       "      <td>Edulis</td>\n",
       "      <td>795.874963</td>\n",
       "      <td>43.641960</td>\n",
       "      <td>-79.406580</td>\n",
       "      <td>['169 Niagara Street', 'Toronto, ON M5V', 'Can...</td>\n",
       "      <td>+1 416-703-4222</td>\n",
       "      <td>4.0</td>\n",
       "      <td>121</td>\n",
       "      <td>0</td>\n",
       "    </tr>\n",
       "  </tbody>\n",
       "</table>\n",
       "<p>203767 rows × 13 columns</p>\n",
       "</div>"
      ],
      "text/plain": [
       "                     Station Name  station_lat  station_lon  Bikes Available  \\\n",
       "0       Queen St E / Woodward Ave    43.665269   -79.319796               14   \n",
       "1       Queen St E / Woodward Ave    43.665269   -79.319796               14   \n",
       "2       Queen St E / Woodward Ave    43.665269   -79.319796               14   \n",
       "3       Queen St E / Woodward Ave    43.665269   -79.319796               14   \n",
       "4       Queen St E / Woodward Ave    43.665269   -79.319796               14   \n",
       "...                           ...          ...          ...              ...   \n",
       "203762               800 Fleet St    43.636804   -79.408832               17   \n",
       "203763               800 Fleet St    43.636804   -79.408832               17   \n",
       "203764               800 Fleet St    43.636804   -79.408832               17   \n",
       "203765               800 Fleet St    43.636804   -79.408832               17   \n",
       "203766               800 Fleet St    43.636804   -79.408832               17   \n",
       "\n",
       "                                name    distance  restaurant_lat  \\\n",
       "0                           Jaclyn's  172.375134       43.666270   \n",
       "1                          Lake Inez  794.661955       43.672340   \n",
       "2                      Tulia Osteria  365.115394       43.664870   \n",
       "3                   Casa Di Giorgios  408.715724       43.666850   \n",
       "4                       Betty’s East  689.778721       43.663455   \n",
       "...                              ...         ...             ...   \n",
       "203762  BaoBird Fried Chicken & Baos  802.719367       43.640584   \n",
       "203763              UBE Night Market  260.249900       43.637334   \n",
       "203764                  Roses Cocina  293.778794       43.633214   \n",
       "203765                  Liberty Soho  755.786002       43.638467   \n",
       "203766                        Edulis  795.874963       43.641960   \n",
       "\n",
       "        restaurant_lon                                            address  \\\n",
       "0           -79.318020  ['1588 Queen Street E', 'Toronto, ON M4L 1G1',...   \n",
       "1           -79.320640  ['1471 Gerrard Street E', 'Toronto, ON M4L 2A1...   \n",
       "2           -79.324250  ['1402 Queen Street E', 'Toronto, ON M4L 1C9',...   \n",
       "3           -79.315180  ['1646 Queen St E', 'Toronto, ON M4L 1G3', 'Ca...   \n",
       "4           -79.327992  ['1301 Queen Street E', 'Toronto, ON M4L 1C2',...   \n",
       "...                ...                                                ...   \n",
       "203762      -79.402567  ['28 Bathurst Street', 'Toronto, ON M5V 0C6', ...   \n",
       "203763      -79.409135  ['250 Fort York Boulevard', 'Unit 57', 'The Be...   \n",
       "203764      -79.411579  ['111 Princes  Boulevard', 'Floor 2', 'Toronto...   \n",
       "203765      -79.416825  ['139 E Liberty Street', 'Toronto, ON M6K 3K4'...   \n",
       "203766      -79.406580  ['169 Niagara Street', 'Toronto, ON M5V', 'Can...   \n",
       "\n",
       "              telephone  rating  review_counts  closed  \n",
       "0       +1 647-901-8809     4.5             16       0  \n",
       "1                  None     4.5             95       0  \n",
       "2       +1 416-461-6400     4.5              2       0  \n",
       "3       +1 416-686-7066     4.0             75       0  \n",
       "4       +1 416-901-5575     3.5              6       0  \n",
       "...                 ...     ...            ...     ...  \n",
       "203762             None     5.0              1       0  \n",
       "203763             None     5.0              1       0  \n",
       "203764  +1 647-259-6825     3.0             13       0  \n",
       "203765             None     3.5             11       0  \n",
       "203766  +1 416-703-4222     4.0            121       0  \n",
       "\n",
       "[203767 rows x 13 columns]"
      ]
     },
     "execution_count": 62,
     "metadata": {},
     "output_type": "execute_result"
    }
   ],
   "source": [
    "result_df"
   ]
  },
  {
   "cell_type": "code",
   "execution_count": 64,
   "metadata": {
    "tags": []
   },
   "outputs": [
    {
     "data": {
      "text/plain": [
       "203767"
      ]
     },
     "execution_count": 64,
     "metadata": {},
     "output_type": "execute_result"
    }
   ],
   "source": [
    "#inserting the data back into database\n",
    "result_df.to_sql('Result', connection, if_exists='replace', index=False)"
   ]
  },
  {
   "cell_type": "code",
   "execution_count": 65,
   "metadata": {
    "tags": []
   },
   "outputs": [],
   "source": [
    "# close the database connection\n",
    "connection.close()"
   ]
  },
  {
   "cell_type": "markdown",
   "metadata": {},
   "source": [
    "Visualize Data"
   ]
  },
  {
   "cell_type": "code",
   "execution_count": 40,
   "metadata": {
    "scrolled": true,
    "tags": []
   },
   "outputs": [
    {
     "data": {
      "text/plain": [
       "(203767, 13)"
      ]
     },
     "execution_count": 40,
     "metadata": {},
     "output_type": "execute_result"
    }
   ],
   "source": [
    "result_df.shape"
   ]
  },
  {
   "cell_type": "code",
   "execution_count": 66,
   "metadata": {
    "scrolled": true,
    "tags": []
   },
   "outputs": [
    {
     "data": {
      "text/plain": [
       "0"
      ]
     },
     "execution_count": 66,
     "metadata": {},
     "output_type": "execute_result"
    }
   ],
   "source": [
    "result_df.duplicated().sum()"
   ]
  },
  {
   "cell_type": "code",
   "execution_count": 67,
   "metadata": {
    "tags": []
   },
   "outputs": [],
   "source": [
    "# there are 2290 diplicated rows in result df and shape is quite large so we will drop duplicated values\n",
    "result_df = result_df.drop_duplicates()"
   ]
  },
  {
   "cell_type": "code",
   "execution_count": 68,
   "metadata": {
    "tags": []
   },
   "outputs": [
    {
     "data": {
      "text/plain": [
       "(203767, 13)"
      ]
     },
     "execution_count": 68,
     "metadata": {},
     "output_type": "execute_result"
    }
   ],
   "source": [
    "result_df.shape"
   ]
  },
  {
   "cell_type": "code",
   "execution_count": 69,
   "metadata": {
    "tags": []
   },
   "outputs": [
    {
     "data": {
      "text/html": [
       "<div>\n",
       "<style scoped>\n",
       "    .dataframe tbody tr th:only-of-type {\n",
       "        vertical-align: middle;\n",
       "    }\n",
       "\n",
       "    .dataframe tbody tr th {\n",
       "        vertical-align: top;\n",
       "    }\n",
       "\n",
       "    .dataframe thead th {\n",
       "        text-align: right;\n",
       "    }\n",
       "</style>\n",
       "<table border=\"1\" class=\"dataframe\">\n",
       "  <thead>\n",
       "    <tr style=\"text-align: right;\">\n",
       "      <th></th>\n",
       "      <th>station_lat</th>\n",
       "      <th>station_lon</th>\n",
       "      <th>Bikes Available</th>\n",
       "      <th>distance</th>\n",
       "      <th>restaurant_lat</th>\n",
       "      <th>restaurant_lon</th>\n",
       "      <th>rating</th>\n",
       "      <th>review_counts</th>\n",
       "      <th>closed</th>\n",
       "    </tr>\n",
       "  </thead>\n",
       "  <tbody>\n",
       "    <tr>\n",
       "      <th>count</th>\n",
       "      <td>203767.000000</td>\n",
       "      <td>203767.000000</td>\n",
       "      <td>203767.000000</td>\n",
       "      <td>203767.000000</td>\n",
       "      <td>203767.000000</td>\n",
       "      <td>203767.000000</td>\n",
       "      <td>203767.000000</td>\n",
       "      <td>203767.000000</td>\n",
       "      <td>203767.0</td>\n",
       "    </tr>\n",
       "    <tr>\n",
       "      <th>mean</th>\n",
       "      <td>43.657705</td>\n",
       "      <td>-79.389803</td>\n",
       "      <td>8.535985</td>\n",
       "      <td>485.297632</td>\n",
       "      <td>43.657774</td>\n",
       "      <td>-79.389856</td>\n",
       "      <td>4.162757</td>\n",
       "      <td>231.782521</td>\n",
       "      <td>0.0</td>\n",
       "    </tr>\n",
       "    <tr>\n",
       "      <th>std</th>\n",
       "      <td>0.014951</td>\n",
       "      <td>0.029625</td>\n",
       "      <td>7.204785</td>\n",
       "      <td>265.610305</td>\n",
       "      <td>0.014748</td>\n",
       "      <td>0.029607</td>\n",
       "      <td>0.490954</td>\n",
       "      <td>488.202644</td>\n",
       "      <td>0.0</td>\n",
       "    </tr>\n",
       "    <tr>\n",
       "      <th>min</th>\n",
       "      <td>43.588077</td>\n",
       "      <td>-79.544491</td>\n",
       "      <td>0.000000</td>\n",
       "      <td>2.175621</td>\n",
       "      <td>43.584960</td>\n",
       "      <td>-79.550880</td>\n",
       "      <td>0.000000</td>\n",
       "      <td>0.000000</td>\n",
       "      <td>0.0</td>\n",
       "    </tr>\n",
       "    <tr>\n",
       "      <th>25%</th>\n",
       "      <td>43.647663</td>\n",
       "      <td>-79.400042</td>\n",
       "      <td>2.000000</td>\n",
       "      <td>280.756728</td>\n",
       "      <td>43.648553</td>\n",
       "      <td>-79.400309</td>\n",
       "      <td>4.000000</td>\n",
       "      <td>22.000000</td>\n",
       "      <td>0.0</td>\n",
       "    </tr>\n",
       "    <tr>\n",
       "      <th>50%</th>\n",
       "      <td>43.655972</td>\n",
       "      <td>-79.387020</td>\n",
       "      <td>7.000000</td>\n",
       "      <td>460.386385</td>\n",
       "      <td>43.655715</td>\n",
       "      <td>-79.385537</td>\n",
       "      <td>4.000000</td>\n",
       "      <td>69.000000</td>\n",
       "      <td>0.0</td>\n",
       "    </tr>\n",
       "    <tr>\n",
       "      <th>75%</th>\n",
       "      <td>43.664769</td>\n",
       "      <td>-79.378623</td>\n",
       "      <td>13.000000</td>\n",
       "      <td>663.925966</td>\n",
       "      <td>43.664690</td>\n",
       "      <td>-79.378900</td>\n",
       "      <td>4.500000</td>\n",
       "      <td>231.000000</td>\n",
       "      <td>0.0</td>\n",
       "    </tr>\n",
       "    <tr>\n",
       "      <th>max</th>\n",
       "      <td>43.784242</td>\n",
       "      <td>-79.130120</td>\n",
       "      <td>38.000000</td>\n",
       "      <td>1391.637145</td>\n",
       "      <td>43.786855</td>\n",
       "      <td>-79.137323</td>\n",
       "      <td>5.000000</td>\n",
       "      <td>3495.000000</td>\n",
       "      <td>0.0</td>\n",
       "    </tr>\n",
       "  </tbody>\n",
       "</table>\n",
       "</div>"
      ],
      "text/plain": [
       "         station_lat    station_lon  Bikes Available       distance  \\\n",
       "count  203767.000000  203767.000000    203767.000000  203767.000000   \n",
       "mean       43.657705     -79.389803         8.535985     485.297632   \n",
       "std         0.014951       0.029625         7.204785     265.610305   \n",
       "min        43.588077     -79.544491         0.000000       2.175621   \n",
       "25%        43.647663     -79.400042         2.000000     280.756728   \n",
       "50%        43.655972     -79.387020         7.000000     460.386385   \n",
       "75%        43.664769     -79.378623        13.000000     663.925966   \n",
       "max        43.784242     -79.130120        38.000000    1391.637145   \n",
       "\n",
       "       restaurant_lat  restaurant_lon         rating  review_counts    closed  \n",
       "count   203767.000000   203767.000000  203767.000000  203767.000000  203767.0  \n",
       "mean        43.657774      -79.389856       4.162757     231.782521       0.0  \n",
       "std          0.014748        0.029607       0.490954     488.202644       0.0  \n",
       "min         43.584960      -79.550880       0.000000       0.000000       0.0  \n",
       "25%         43.648553      -79.400309       4.000000      22.000000       0.0  \n",
       "50%         43.655715      -79.385537       4.000000      69.000000       0.0  \n",
       "75%         43.664690      -79.378900       4.500000     231.000000       0.0  \n",
       "max         43.786855      -79.137323       5.000000    3495.000000       0.0  "
      ]
     },
     "execution_count": 69,
     "metadata": {},
     "output_type": "execute_result"
    }
   ],
   "source": [
    "result_df.describe()"
   ]
  },
  {
   "cell_type": "code",
   "execution_count": 70,
   "metadata": {
    "tags": []
   },
   "outputs": [
    {
     "name": "stderr",
     "output_type": "stream",
     "text": [
      "Matplotlib is building the font cache; this may take a moment.\n"
     ]
    }
   ],
   "source": [
    "import matplotlib.pyplot as plt"
   ]
  },
  {
   "cell_type": "code",
   "execution_count": 92,
   "metadata": {
    "scrolled": true,
    "tags": []
   },
   "outputs": [
    {
     "data": {
      "image/png": "[encoded data removed]",
      "text/plain": [
       "<Figure size 640x480 with 1 Axes>"
      ]
     },
     "metadata": {},
     "output_type": "display_data"
    }
   ],
   "source": [
    "# create histogram of rating column\n",
    "plt.hist(result_df['rating'], bins=10, color='skyblue', edgecolor='black')\n",
    "plt.xlabel('Rating')\n",
    "plt.ylabel('Frequency')\n",
    "plt.title('Histogram of Ratings')\n",
    "\n",
    "# calculate and display the mean rating\n",
    "mean_rating = result_df['rating'].mean()\n",
    "plt.axvline(mean_rating, color='red', linestyle='dashed', linewidth = 2, label=f\"Mean Rating: {mean_rating:.2f}\")\n",
    "plt.legend()\n",
    "\n",
    "plt.show()"
   ]
  },
  {
   "cell_type": "code",
   "execution_count": null,
   "metadata": {},
   "outputs": [],
   "source": []
  },
  {
   "cell_type": "code",
   "execution_count": 72,
   "metadata": {
    "tags": []
   },
   "outputs": [
    {
     "data": {
      "text/plain": [
       "Station Name           0\n",
       "station_lat            0\n",
       "station_lon            0\n",
       "Bikes Available        0\n",
       "name                   0\n",
       "distance               0\n",
       "restaurant_lat         0\n",
       "restaurant_lon         0\n",
       "address                0\n",
       "telephone          17301\n",
       "rating                 0\n",
       "review_counts          0\n",
       "closed                 0\n",
       "dtype: int64"
      ]
     },
     "execution_count": 72,
     "metadata": {},
     "output_type": "execute_result"
    }
   ],
   "source": [
    "result_df.isnull().sum()"
   ]
  },
  {
   "cell_type": "code",
   "execution_count": 73,
   "metadata": {
    "scrolled": true,
    "tags": []
   },
   "outputs": [
    {
     "data": {
      "image/png": "[encoded data removed]",
      "text/plain": [
       "<Figure size 640x480 with 1 Axes>"
      ]
     },
     "metadata": {},
     "output_type": "display_data"
    }
   ],
   "source": [
    "# create histogram of rating column\n",
    "plt.hist(result_df['distance'], bins=20, edgecolor='k')\n",
    "\n",
    "plt.show()"
   ]
  },
  {
   "cell_type": "code",
   "execution_count": 74,
   "metadata": {
    "tags": []
   },
   "outputs": [],
   "source": [
    "restaurant_counts = result_df['name'].value_counts()"
   ]
  },
  {
   "cell_type": "code",
   "execution_count": 75,
   "metadata": {
    "scrolled": true,
    "tags": []
   },
   "outputs": [
    {
     "data": {
      "text/plain": [
       "Mogouyan Hand-Pulled Noodles    4541\n",
       "The Rabbit Hole                 3360\n",
       "Richmond Station                3024\n",
       "Pai Northern Thai Kitchen       2999\n",
       "Horangee Sikdang                2254\n",
       "                                ... \n",
       "Pastable                           1\n",
       "Simon Sushi                        1\n",
       "Yummy Delight                      1\n",
       "Parma Pizza                        1\n",
       "Highland Harvest                   1\n",
       "Name: name, Length: 1691, dtype: int64"
      ]
     },
     "execution_count": 75,
     "metadata": {},
     "output_type": "execute_result"
    }
   ],
   "source": [
    "restaurant_counts"
   ]
  },
  {
   "cell_type": "code",
   "execution_count": 76,
   "metadata": {
    "tags": []
   },
   "outputs": [],
   "source": [
    "# dropping rating rows with null values as replacing it with any other value is not feasable option as it could be misguiding the customers\n",
    "result_df = result_df.dropna(subset=[\"rating\"])"
   ]
  },
  {
   "cell_type": "code",
   "execution_count": 77,
   "metadata": {
    "tags": []
   },
   "outputs": [
    {
     "data": {
      "text/plain": [
       "(203767, 13)"
      ]
     },
     "execution_count": 77,
     "metadata": {},
     "output_type": "execute_result"
    }
   ],
   "source": [
    "result_df.shape"
   ]
  },
  {
   "cell_type": "markdown",
   "metadata": {},
   "source": [
    "##### Hypothesis Testing\n",
    "\n",
    "(1) Null Hypothesis(H0): There is no significant difference in the mean rating of restaurants near bike stations and the mean rating of restaurants overall.\n",
    "\n",
    "(2) Alternate Hyptothesis(H1): There is significant difference in the mean rating of restaurants near bike stations compared to the mean rating of restaurant overall\n",
    "\n",
    "(3) conducting t-test to find the significance\n"
   ]
  },
  {
   "cell_type": "code",
   "execution_count": 78,
   "metadata": {
    "tags": []
   },
   "outputs": [],
   "source": [
    "# getting rating for each restaurant \n",
    "each_restaurant_rating = result_df[['name', 'rating']].drop_duplicates()"
   ]
  },
  {
   "cell_type": "code",
   "execution_count": 79,
   "metadata": {
    "scrolled": true,
    "tags": []
   },
   "outputs": [
    {
     "data": {
      "text/html": [
       "<div>\n",
       "<style scoped>\n",
       "    .dataframe tbody tr th:only-of-type {\n",
       "        vertical-align: middle;\n",
       "    }\n",
       "\n",
       "    .dataframe tbody tr th {\n",
       "        vertical-align: top;\n",
       "    }\n",
       "\n",
       "    .dataframe thead th {\n",
       "        text-align: right;\n",
       "    }\n",
       "</style>\n",
       "<table border=\"1\" class=\"dataframe\">\n",
       "  <thead>\n",
       "    <tr style=\"text-align: right;\">\n",
       "      <th></th>\n",
       "      <th>name</th>\n",
       "      <th>rating</th>\n",
       "    </tr>\n",
       "  </thead>\n",
       "  <tbody>\n",
       "    <tr>\n",
       "      <th>0</th>\n",
       "      <td>Jaclyn's</td>\n",
       "      <td>4.5</td>\n",
       "    </tr>\n",
       "    <tr>\n",
       "      <th>1</th>\n",
       "      <td>Lake Inez</td>\n",
       "      <td>4.5</td>\n",
       "    </tr>\n",
       "    <tr>\n",
       "      <th>2</th>\n",
       "      <td>Tulia Osteria</td>\n",
       "      <td>4.5</td>\n",
       "    </tr>\n",
       "    <tr>\n",
       "      <th>3</th>\n",
       "      <td>Casa Di Giorgios</td>\n",
       "      <td>4.0</td>\n",
       "    </tr>\n",
       "    <tr>\n",
       "      <th>4</th>\n",
       "      <td>Betty’s East</td>\n",
       "      <td>3.5</td>\n",
       "    </tr>\n",
       "    <tr>\n",
       "      <th>...</th>\n",
       "      <td>...</td>\n",
       "      <td>...</td>\n",
       "    </tr>\n",
       "    <tr>\n",
       "      <th>180793</th>\n",
       "      <td>Freshii</td>\n",
       "      <td>1.0</td>\n",
       "    </tr>\n",
       "    <tr>\n",
       "      <th>180851</th>\n",
       "      <td>The Leaside Pub</td>\n",
       "      <td>3.0</td>\n",
       "    </tr>\n",
       "    <tr>\n",
       "      <th>197898</th>\n",
       "      <td>The Olde Stone Cottage Pub &amp; Patio</td>\n",
       "      <td>3.5</td>\n",
       "    </tr>\n",
       "    <tr>\n",
       "      <th>197901</th>\n",
       "      <td>Phoenix</td>\n",
       "      <td>4.0</td>\n",
       "    </tr>\n",
       "    <tr>\n",
       "      <th>202855</th>\n",
       "      <td>Sushi Real Fruit</td>\n",
       "      <td>4.0</td>\n",
       "    </tr>\n",
       "  </tbody>\n",
       "</table>\n",
       "<p>1750 rows × 2 columns</p>\n",
       "</div>"
      ],
      "text/plain": [
       "                                      name  rating\n",
       "0                                 Jaclyn's     4.5\n",
       "1                                Lake Inez     4.5\n",
       "2                            Tulia Osteria     4.5\n",
       "3                         Casa Di Giorgios     4.0\n",
       "4                             Betty’s East     3.5\n",
       "...                                    ...     ...\n",
       "180793                             Freshii     1.0\n",
       "180851                     The Leaside Pub     3.0\n",
       "197898  The Olde Stone Cottage Pub & Patio     3.5\n",
       "197901                             Phoenix     4.0\n",
       "202855                    Sushi Real Fruit     4.0\n",
       "\n",
       "[1750 rows x 2 columns]"
      ]
     },
     "execution_count": 79,
     "metadata": {},
     "output_type": "execute_result"
    }
   ],
   "source": [
    "each_restaurant_rating"
   ]
  },
  {
   "cell_type": "code",
   "execution_count": 80,
   "metadata": {
    "tags": []
   },
   "outputs": [],
   "source": [
    "# counting restaurants for each bike station\n",
    "mean_rating_by_station = result_df.groupby('Station Name')['rating'].mean()"
   ]
  },
  {
   "cell_type": "code",
   "execution_count": 81,
   "metadata": {
    "tags": []
   },
   "outputs": [],
   "source": [
    "mean_rating_by_stations = pd.DataFrame(mean_rating_by_station)"
   ]
  },
  {
   "cell_type": "code",
   "execution_count": 82,
   "metadata": {
    "scrolled": true,
    "tags": []
   },
   "outputs": [
    {
     "data": {
      "text/html": [
       "<div>\n",
       "<style scoped>\n",
       "    .dataframe tbody tr th:only-of-type {\n",
       "        vertical-align: middle;\n",
       "    }\n",
       "\n",
       "    .dataframe tbody tr th {\n",
       "        vertical-align: top;\n",
       "    }\n",
       "\n",
       "    .dataframe thead th {\n",
       "        text-align: right;\n",
       "    }\n",
       "</style>\n",
       "<table border=\"1\" class=\"dataframe\">\n",
       "  <thead>\n",
       "    <tr style=\"text-align: right;\">\n",
       "      <th></th>\n",
       "      <th>rating</th>\n",
       "    </tr>\n",
       "    <tr>\n",
       "      <th>Station Name</th>\n",
       "      <th></th>\n",
       "    </tr>\n",
       "  </thead>\n",
       "  <tbody>\n",
       "    <tr>\n",
       "      <th>1 Market St - SMART</th>\n",
       "      <td>4.213768</td>\n",
       "    </tr>\n",
       "    <tr>\n",
       "      <th>101 Cedarvale Ave</th>\n",
       "      <td>4.210000</td>\n",
       "    </tr>\n",
       "    <tr>\n",
       "      <th>11 Spadina Rd</th>\n",
       "      <td>4.323920</td>\n",
       "    </tr>\n",
       "    <tr>\n",
       "      <th>111 Bond St (North of Dundas St E)  - SMART</th>\n",
       "      <td>4.254269</td>\n",
       "    </tr>\n",
       "    <tr>\n",
       "      <th>111 Broadview Ave</th>\n",
       "      <td>4.267241</td>\n",
       "    </tr>\n",
       "    <tr>\n",
       "      <th>...</th>\n",
       "      <td>...</td>\n",
       "    </tr>\n",
       "    <tr>\n",
       "      <th>York St / Lake Shore Blvd W</th>\n",
       "      <td>4.012146</td>\n",
       "    </tr>\n",
       "    <tr>\n",
       "      <th>York St / Queens Quay W</th>\n",
       "      <td>3.935065</td>\n",
       "    </tr>\n",
       "    <tr>\n",
       "      <th>York University (Glendon Campus) - SMART</th>\n",
       "      <td>2.416667</td>\n",
       "    </tr>\n",
       "    <tr>\n",
       "      <th>York University Station (North)</th>\n",
       "      <td>2.854839</td>\n",
       "    </tr>\n",
       "    <tr>\n",
       "      <th>York University Station (South) - SMART</th>\n",
       "      <td>2.854839</td>\n",
       "    </tr>\n",
       "  </tbody>\n",
       "</table>\n",
       "<p>669 rows × 1 columns</p>\n",
       "</div>"
      ],
      "text/plain": [
       "                                               rating\n",
       "Station Name                                         \n",
       "1 Market St - SMART                          4.213768\n",
       "101 Cedarvale Ave                            4.210000\n",
       "11 Spadina Rd                                4.323920\n",
       "111 Bond St (North of Dundas St E)  - SMART  4.254269\n",
       "111 Broadview Ave                            4.267241\n",
       "...                                               ...\n",
       "York St / Lake Shore Blvd W                  4.012146\n",
       "York St / Queens Quay W                      3.935065\n",
       "York University (Glendon Campus) - SMART     2.416667\n",
       "York University Station (North)              2.854839\n",
       "York University Station (South) - SMART      2.854839\n",
       "\n",
       "[669 rows x 1 columns]"
      ]
     },
     "execution_count": 82,
     "metadata": {},
     "output_type": "execute_result"
    }
   ],
   "source": [
    "mean_rating_by_stations"
   ]
  },
  {
   "cell_type": "code",
   "execution_count": 89,
   "metadata": {
    "tags": []
   },
   "outputs": [
    {
     "name": "stdout",
     "output_type": "stream",
     "text": [
      "Reject the null hypothesis. There is a significant difference in mean ratings.\n"
     ]
    }
   ],
   "source": [
    "from scipy import stats\n",
    "\n",
    "#Define the two groups (1: Ratings of restaurants near bike stations, 2: Ratings of all restaurants)\n",
    "group1_ratings = each_restaurant_rating['rating']\n",
    "group2_ratings = mean_rating_by_stations['rating']\n",
    "\n",
    "# perform a two_sample t-test\n",
    "t_stat, p_value = stats.ttest_ind(group1_ratings, group2_ratings, equal_var=False)\n",
    "\n",
    "#check if the p-value is less than alpha (0.05)\n",
    "alpha = 0.05\n",
    "\n",
    "if p_value < alpha:\n",
    "    print(\"Reject the null hypothesis. There is a significant difference in mean ratings.\")\n",
    "    \n",
    "else:\n",
    "    print(\"Null Hypothesis True. There is no significant difference in mean ratings\")"
   ]
  },
  {
   "cell_type": "code",
   "execution_count": 79,
   "metadata": {},
   "outputs": [
    {
     "data": {
      "text/plain": [
       "0.577629374723956"
      ]
     },
     "execution_count": 79,
     "metadata": {},
     "output_type": "execute_result"
    }
   ],
   "source": [
    "p_value"
   ]
  },
  {
   "cell_type": "markdown",
   "metadata": {},
   "source": [
    "Finding correlation between Bikes Avaialble and distance to each Indian restaurant "
   ]
  },
  {
   "cell_type": "code",
   "execution_count": 84,
   "metadata": {
    "tags": []
   },
   "outputs": [],
   "source": [
    "correlation_coefficient = result_df[['distance', 'Bikes Available']].corr().iloc[0,1]"
   ]
  },
  {
   "cell_type": "code",
   "execution_count": 85,
   "metadata": {
    "tags": []
   },
   "outputs": [
    {
     "data": {
      "text/plain": [
       "0.013662773924895283"
      ]
     },
     "execution_count": 85,
     "metadata": {},
     "output_type": "execute_result"
    }
   ],
   "source": [
    "correlation_coefficient"
   ]
  },
  {
   "cell_type": "markdown",
   "metadata": {},
   "source": [
    "Correlation coefficient is close to zero.\n",
    "we can conclude:\n",
    "    correlation is weak between bikes available and distance "
   ]
  },
  {
   "cell_type": "markdown",
   "metadata": {},
   "source": []
  },
  {
   "cell_type": "markdown",
   "metadata": {},
   "source": [
    "Look at the data before and after the join to validate your data."
   ]
  },
  {
   "cell_type": "code",
   "execution_count": 86,
   "metadata": {
    "scrolled": true,
    "tags": []
   },
   "outputs": [
    {
     "data": {
      "text/html": [
       "<div>\n",
       "<style scoped>\n",
       "    .dataframe tbody tr th:only-of-type {\n",
       "        vertical-align: middle;\n",
       "    }\n",
       "\n",
       "    .dataframe tbody tr th {\n",
       "        vertical-align: top;\n",
       "    }\n",
       "\n",
       "    .dataframe thead th {\n",
       "        text-align: right;\n",
       "    }\n",
       "</style>\n",
       "<table border=\"1\" class=\"dataframe\">\n",
       "  <thead>\n",
       "    <tr style=\"text-align: right;\">\n",
       "      <th></th>\n",
       "      <th>Station Name</th>\n",
       "      <th>station_lat</th>\n",
       "      <th>station_lon</th>\n",
       "      <th>Bikes Available</th>\n",
       "    </tr>\n",
       "  </thead>\n",
       "  <tbody>\n",
       "    <tr>\n",
       "      <th>0</th>\n",
       "      <td>Queen St E / Woodward Ave</td>\n",
       "      <td>43.665269</td>\n",
       "      <td>-79.319796</td>\n",
       "      <td>14</td>\n",
       "    </tr>\n",
       "    <tr>\n",
       "      <th>1</th>\n",
       "      <td>Primrose Ave / Davenport Rd</td>\n",
       "      <td>43.671420</td>\n",
       "      <td>-79.445947</td>\n",
       "      <td>0</td>\n",
       "    </tr>\n",
       "    <tr>\n",
       "      <th>2</th>\n",
       "      <td>Queen St. E / Rhodes Ave.</td>\n",
       "      <td>43.666224</td>\n",
       "      <td>-79.317693</td>\n",
       "      <td>21</td>\n",
       "    </tr>\n",
       "    <tr>\n",
       "      <th>3</th>\n",
       "      <td>Bond St / Queen St E</td>\n",
       "      <td>43.653236</td>\n",
       "      <td>-79.376716</td>\n",
       "      <td>4</td>\n",
       "    </tr>\n",
       "    <tr>\n",
       "      <th>4</th>\n",
       "      <td>Church St / Alexander St</td>\n",
       "      <td>43.663722</td>\n",
       "      <td>-79.380288</td>\n",
       "      <td>7</td>\n",
       "    </tr>\n",
       "    <tr>\n",
       "      <th>...</th>\n",
       "      <td>...</td>\n",
       "      <td>...</td>\n",
       "      <td>...</td>\n",
       "      <td>...</td>\n",
       "    </tr>\n",
       "    <tr>\n",
       "      <th>701</th>\n",
       "      <td>Galbraith Rd / King's College Rd</td>\n",
       "      <td>43.660387</td>\n",
       "      <td>-79.395378</td>\n",
       "      <td>0</td>\n",
       "    </tr>\n",
       "    <tr>\n",
       "      <th>702</th>\n",
       "      <td>Exhibition GO Station</td>\n",
       "      <td>43.635201</td>\n",
       "      <td>-79.418771</td>\n",
       "      <td>12</td>\n",
       "    </tr>\n",
       "    <tr>\n",
       "      <th>703</th>\n",
       "      <td>Princes' Blvd / Nunavut Rd</td>\n",
       "      <td>43.633352</td>\n",
       "      <td>-79.414363</td>\n",
       "      <td>6</td>\n",
       "    </tr>\n",
       "    <tr>\n",
       "      <th>704</th>\n",
       "      <td>800 Fleet St</td>\n",
       "      <td>43.636804</td>\n",
       "      <td>-79.408832</td>\n",
       "      <td>17</td>\n",
       "    </tr>\n",
       "    <tr>\n",
       "      <th>705</th>\n",
       "      <td>Finch Subway Station</td>\n",
       "      <td>43.781877</td>\n",
       "      <td>-79.415285</td>\n",
       "      <td>0</td>\n",
       "    </tr>\n",
       "  </tbody>\n",
       "</table>\n",
       "<p>706 rows × 4 columns</p>\n",
       "</div>"
      ],
      "text/plain": [
       "                         Station Name  station_lat  station_lon  \\\n",
       "0           Queen St E / Woodward Ave    43.665269   -79.319796   \n",
       "1         Primrose Ave / Davenport Rd    43.671420   -79.445947   \n",
       "2           Queen St. E / Rhodes Ave.    43.666224   -79.317693   \n",
       "3                Bond St / Queen St E    43.653236   -79.376716   \n",
       "4            Church St / Alexander St    43.663722   -79.380288   \n",
       "..                                ...          ...          ...   \n",
       "701  Galbraith Rd / King's College Rd    43.660387   -79.395378   \n",
       "702             Exhibition GO Station    43.635201   -79.418771   \n",
       "703        Princes' Blvd / Nunavut Rd    43.633352   -79.414363   \n",
       "704                      800 Fleet St    43.636804   -79.408832   \n",
       "705             Finch Subway Station     43.781877   -79.415285   \n",
       "\n",
       "     Bikes Available  \n",
       "0                 14  \n",
       "1                  0  \n",
       "2                 21  \n",
       "3                  4  \n",
       "4                  7  \n",
       "..               ...  \n",
       "701                0  \n",
       "702               12  \n",
       "703                6  \n",
       "704               17  \n",
       "705                0  \n",
       "\n",
       "[706 rows x 4 columns]"
      ]
     },
     "execution_count": 86,
     "metadata": {},
     "output_type": "execute_result"
    }
   ],
   "source": [
    "Bike_stations"
   ]
  },
  {
   "cell_type": "code",
   "execution_count": 94,
   "metadata": {
    "scrolled": true,
    "tags": []
   },
   "outputs": [
    {
     "data": {
      "text/html": [
       "<div>\n",
       "<style scoped>\n",
       "    .dataframe tbody tr th:only-of-type {\n",
       "        vertical-align: middle;\n",
       "    }\n",
       "\n",
       "    .dataframe tbody tr th {\n",
       "        vertical-align: top;\n",
       "    }\n",
       "\n",
       "    .dataframe thead th {\n",
       "        text-align: right;\n",
       "    }\n",
       "</style>\n",
       "<table border=\"1\" class=\"dataframe\">\n",
       "  <thead>\n",
       "    <tr style=\"text-align: right;\">\n",
       "      <th></th>\n",
       "      <th>name</th>\n",
       "      <th>distance</th>\n",
       "      <th>restaurant_lat</th>\n",
       "      <th>restaurant_lon</th>\n",
       "      <th>address</th>\n",
       "      <th>telephone</th>\n",
       "      <th>rating</th>\n",
       "      <th>review_counts</th>\n",
       "      <th>closed</th>\n",
       "    </tr>\n",
       "  </thead>\n",
       "  <tbody>\n",
       "    <tr>\n",
       "      <th>0</th>\n",
       "      <td>Jaclyn's</td>\n",
       "      <td>172.375134</td>\n",
       "      <td>43.666270</td>\n",
       "      <td>-79.318020</td>\n",
       "      <td>['1588 Queen Street E', 'Toronto, ON M4L 1G1',...</td>\n",
       "      <td>+1 647-901-8809</td>\n",
       "      <td>4.5</td>\n",
       "      <td>16</td>\n",
       "      <td>False</td>\n",
       "    </tr>\n",
       "    <tr>\n",
       "      <th>1</th>\n",
       "      <td>Lake Inez</td>\n",
       "      <td>794.661955</td>\n",
       "      <td>43.672340</td>\n",
       "      <td>-79.320640</td>\n",
       "      <td>['1471 Gerrard Street E', 'Toronto, ON M4L 2A1...</td>\n",
       "      <td>NaN</td>\n",
       "      <td>4.5</td>\n",
       "      <td>95</td>\n",
       "      <td>False</td>\n",
       "    </tr>\n",
       "    <tr>\n",
       "      <th>2</th>\n",
       "      <td>Tulia Osteria</td>\n",
       "      <td>365.115394</td>\n",
       "      <td>43.664870</td>\n",
       "      <td>-79.324250</td>\n",
       "      <td>['1402 Queen Street E', 'Toronto, ON M4L 1C9',...</td>\n",
       "      <td>+1 416-461-6400</td>\n",
       "      <td>4.5</td>\n",
       "      <td>2</td>\n",
       "      <td>False</td>\n",
       "    </tr>\n",
       "    <tr>\n",
       "      <th>3</th>\n",
       "      <td>Casa Di Giorgios</td>\n",
       "      <td>408.715724</td>\n",
       "      <td>43.666850</td>\n",
       "      <td>-79.315180</td>\n",
       "      <td>['1646 Queen St E', 'Toronto, ON M4L 1G3', 'Ca...</td>\n",
       "      <td>+1 416-686-7066</td>\n",
       "      <td>4.0</td>\n",
       "      <td>75</td>\n",
       "      <td>False</td>\n",
       "    </tr>\n",
       "    <tr>\n",
       "      <th>4</th>\n",
       "      <td>Betty’s East</td>\n",
       "      <td>689.778721</td>\n",
       "      <td>43.663455</td>\n",
       "      <td>-79.327992</td>\n",
       "      <td>['1301 Queen Street E', 'Toronto, ON M4L 1C2',...</td>\n",
       "      <td>+1 416-901-5575</td>\n",
       "      <td>3.5</td>\n",
       "      <td>6</td>\n",
       "      <td>False</td>\n",
       "    </tr>\n",
       "    <tr>\n",
       "      <th>...</th>\n",
       "      <td>...</td>\n",
       "      <td>...</td>\n",
       "      <td>...</td>\n",
       "      <td>...</td>\n",
       "      <td>...</td>\n",
       "      <td>...</td>\n",
       "      <td>...</td>\n",
       "      <td>...</td>\n",
       "      <td>...</td>\n",
       "    </tr>\n",
       "    <tr>\n",
       "      <th>9526</th>\n",
       "      <td>Sorrel</td>\n",
       "      <td>500.490388</td>\n",
       "      <td>43.680241</td>\n",
       "      <td>-79.391182</td>\n",
       "      <td>['1158 Yonge Street', 'Toronto, ON M4W 2L9', '...</td>\n",
       "      <td>+1 416-926-1010</td>\n",
       "      <td>3.5</td>\n",
       "      <td>34</td>\n",
       "      <td>False</td>\n",
       "    </tr>\n",
       "    <tr>\n",
       "      <th>9527</th>\n",
       "      <td>Terroni</td>\n",
       "      <td>535.440876</td>\n",
       "      <td>43.680011</td>\n",
       "      <td>-79.390519</td>\n",
       "      <td>['1095 Yonge Street', 'Toronto, ON M4W 2L8', '...</td>\n",
       "      <td>+1 416-925-4020</td>\n",
       "      <td>3.0</td>\n",
       "      <td>321</td>\n",
       "      <td>False</td>\n",
       "    </tr>\n",
       "    <tr>\n",
       "      <th>9528</th>\n",
       "      <td>Spiga Ristorante</td>\n",
       "      <td>201.636222</td>\n",
       "      <td>43.686230</td>\n",
       "      <td>-79.393540</td>\n",
       "      <td>['1378 Yonge Street', 'Toronto, ON M4T 1Y5', '...</td>\n",
       "      <td>+1 416-960-1500</td>\n",
       "      <td>3.5</td>\n",
       "      <td>17</td>\n",
       "      <td>False</td>\n",
       "    </tr>\n",
       "    <tr>\n",
       "      <th>9529</th>\n",
       "      <td>Grandma Loves You</td>\n",
       "      <td>776.351005</td>\n",
       "      <td>43.677846</td>\n",
       "      <td>-79.390108</td>\n",
       "      <td>['1084 Yonge Street', 'Toronto, ON M4W 2L4', '...</td>\n",
       "      <td>+1 416-925-5547</td>\n",
       "      <td>5.0</td>\n",
       "      <td>76</td>\n",
       "      <td>False</td>\n",
       "    </tr>\n",
       "    <tr>\n",
       "      <th>9530</th>\n",
       "      <td>The Sprout</td>\n",
       "      <td>411.843661</td>\n",
       "      <td>43.687565</td>\n",
       "      <td>-79.395561</td>\n",
       "      <td>['15 St.Clair Avenue W', 'Toronto, ON M4V 1K6'...</td>\n",
       "      <td>+1 416-929-2541</td>\n",
       "      <td>3.5</td>\n",
       "      <td>40</td>\n",
       "      <td>False</td>\n",
       "    </tr>\n",
       "  </tbody>\n",
       "</table>\n",
       "<p>9531 rows × 9 columns</p>\n",
       "</div>"
      ],
      "text/plain": [
       "                   name    distance  restaurant_lat  restaurant_lon  \\\n",
       "0              Jaclyn's  172.375134       43.666270      -79.318020   \n",
       "1             Lake Inez  794.661955       43.672340      -79.320640   \n",
       "2         Tulia Osteria  365.115394       43.664870      -79.324250   \n",
       "3      Casa Di Giorgios  408.715724       43.666850      -79.315180   \n",
       "4          Betty’s East  689.778721       43.663455      -79.327992   \n",
       "...                 ...         ...             ...             ...   \n",
       "9526             Sorrel  500.490388       43.680241      -79.391182   \n",
       "9527            Terroni  535.440876       43.680011      -79.390519   \n",
       "9528   Spiga Ristorante  201.636222       43.686230      -79.393540   \n",
       "9529  Grandma Loves You  776.351005       43.677846      -79.390108   \n",
       "9530         The Sprout  411.843661       43.687565      -79.395561   \n",
       "\n",
       "                                                address        telephone  \\\n",
       "0     ['1588 Queen Street E', 'Toronto, ON M4L 1G1',...  +1 647-901-8809   \n",
       "1     ['1471 Gerrard Street E', 'Toronto, ON M4L 2A1...              NaN   \n",
       "2     ['1402 Queen Street E', 'Toronto, ON M4L 1C9',...  +1 416-461-6400   \n",
       "3     ['1646 Queen St E', 'Toronto, ON M4L 1G3', 'Ca...  +1 416-686-7066   \n",
       "4     ['1301 Queen Street E', 'Toronto, ON M4L 1C2',...  +1 416-901-5575   \n",
       "...                                                 ...              ...   \n",
       "9526  ['1158 Yonge Street', 'Toronto, ON M4W 2L9', '...  +1 416-926-1010   \n",
       "9527  ['1095 Yonge Street', 'Toronto, ON M4W 2L8', '...  +1 416-925-4020   \n",
       "9528  ['1378 Yonge Street', 'Toronto, ON M4T 1Y5', '...  +1 416-960-1500   \n",
       "9529  ['1084 Yonge Street', 'Toronto, ON M4W 2L4', '...  +1 416-925-5547   \n",
       "9530  ['15 St.Clair Avenue W', 'Toronto, ON M4V 1K6'...  +1 416-929-2541   \n",
       "\n",
       "      rating  review_counts  closed  \n",
       "0        4.5             16   False  \n",
       "1        4.5             95   False  \n",
       "2        4.5              2   False  \n",
       "3        4.0             75   False  \n",
       "4        3.5              6   False  \n",
       "...      ...            ...     ...  \n",
       "9526     3.5             34   False  \n",
       "9527     3.0            321   False  \n",
       "9528     3.5             17   False  \n",
       "9529     5.0             76   False  \n",
       "9530     3.5             40   False  \n",
       "\n",
       "[9531 rows x 9 columns]"
      ]
     },
     "execution_count": 94,
     "metadata": {},
     "output_type": "execute_result"
    }
   ],
   "source": [
    "yelp_restaurant"
   ]
  },
  {
   "cell_type": "code",
   "execution_count": 90,
   "metadata": {
    "scrolled": true,
    "tags": []
   },
   "outputs": [
    {
     "data": {
      "text/html": [
       "<div>\n",
       "<style scoped>\n",
       "    .dataframe tbody tr th:only-of-type {\n",
       "        vertical-align: middle;\n",
       "    }\n",
       "\n",
       "    .dataframe tbody tr th {\n",
       "        vertical-align: top;\n",
       "    }\n",
       "\n",
       "    .dataframe thead th {\n",
       "        text-align: right;\n",
       "    }\n",
       "</style>\n",
       "<table border=\"1\" class=\"dataframe\">\n",
       "  <thead>\n",
       "    <tr style=\"text-align: right;\">\n",
       "      <th></th>\n",
       "      <th>Station Name</th>\n",
       "      <th>station_lat</th>\n",
       "      <th>station_lon</th>\n",
       "      <th>Bikes Available</th>\n",
       "      <th>name</th>\n",
       "      <th>distance</th>\n",
       "      <th>restaurant_lat</th>\n",
       "      <th>restaurant_lon</th>\n",
       "      <th>address</th>\n",
       "      <th>telephone</th>\n",
       "      <th>rating</th>\n",
       "      <th>review_counts</th>\n",
       "      <th>closed</th>\n",
       "    </tr>\n",
       "  </thead>\n",
       "  <tbody>\n",
       "    <tr>\n",
       "      <th>0</th>\n",
       "      <td>Queen St E / Woodward Ave</td>\n",
       "      <td>43.665269</td>\n",
       "      <td>-79.319796</td>\n",
       "      <td>14</td>\n",
       "      <td>Jaclyn's</td>\n",
       "      <td>172.375134</td>\n",
       "      <td>43.666270</td>\n",
       "      <td>-79.318020</td>\n",
       "      <td>['1588 Queen Street E', 'Toronto, ON M4L 1G1',...</td>\n",
       "      <td>+1 647-901-8809</td>\n",
       "      <td>4.5</td>\n",
       "      <td>16</td>\n",
       "      <td>0</td>\n",
       "    </tr>\n",
       "    <tr>\n",
       "      <th>1</th>\n",
       "      <td>Queen St E / Woodward Ave</td>\n",
       "      <td>43.665269</td>\n",
       "      <td>-79.319796</td>\n",
       "      <td>14</td>\n",
       "      <td>Lake Inez</td>\n",
       "      <td>794.661955</td>\n",
       "      <td>43.672340</td>\n",
       "      <td>-79.320640</td>\n",
       "      <td>['1471 Gerrard Street E', 'Toronto, ON M4L 2A1...</td>\n",
       "      <td>None</td>\n",
       "      <td>4.5</td>\n",
       "      <td>95</td>\n",
       "      <td>0</td>\n",
       "    </tr>\n",
       "    <tr>\n",
       "      <th>2</th>\n",
       "      <td>Queen St E / Woodward Ave</td>\n",
       "      <td>43.665269</td>\n",
       "      <td>-79.319796</td>\n",
       "      <td>14</td>\n",
       "      <td>Tulia Osteria</td>\n",
       "      <td>365.115394</td>\n",
       "      <td>43.664870</td>\n",
       "      <td>-79.324250</td>\n",
       "      <td>['1402 Queen Street E', 'Toronto, ON M4L 1C9',...</td>\n",
       "      <td>+1 416-461-6400</td>\n",
       "      <td>4.5</td>\n",
       "      <td>2</td>\n",
       "      <td>0</td>\n",
       "    </tr>\n",
       "    <tr>\n",
       "      <th>3</th>\n",
       "      <td>Queen St E / Woodward Ave</td>\n",
       "      <td>43.665269</td>\n",
       "      <td>-79.319796</td>\n",
       "      <td>14</td>\n",
       "      <td>Casa Di Giorgios</td>\n",
       "      <td>408.715724</td>\n",
       "      <td>43.666850</td>\n",
       "      <td>-79.315180</td>\n",
       "      <td>['1646 Queen St E', 'Toronto, ON M4L 1G3', 'Ca...</td>\n",
       "      <td>+1 416-686-7066</td>\n",
       "      <td>4.0</td>\n",
       "      <td>75</td>\n",
       "      <td>0</td>\n",
       "    </tr>\n",
       "    <tr>\n",
       "      <th>4</th>\n",
       "      <td>Queen St E / Woodward Ave</td>\n",
       "      <td>43.665269</td>\n",
       "      <td>-79.319796</td>\n",
       "      <td>14</td>\n",
       "      <td>Betty’s East</td>\n",
       "      <td>689.778721</td>\n",
       "      <td>43.663455</td>\n",
       "      <td>-79.327992</td>\n",
       "      <td>['1301 Queen Street E', 'Toronto, ON M4L 1C2',...</td>\n",
       "      <td>+1 416-901-5575</td>\n",
       "      <td>3.5</td>\n",
       "      <td>6</td>\n",
       "      <td>0</td>\n",
       "    </tr>\n",
       "    <tr>\n",
       "      <th>...</th>\n",
       "      <td>...</td>\n",
       "      <td>...</td>\n",
       "      <td>...</td>\n",
       "      <td>...</td>\n",
       "      <td>...</td>\n",
       "      <td>...</td>\n",
       "      <td>...</td>\n",
       "      <td>...</td>\n",
       "      <td>...</td>\n",
       "      <td>...</td>\n",
       "      <td>...</td>\n",
       "      <td>...</td>\n",
       "      <td>...</td>\n",
       "    </tr>\n",
       "    <tr>\n",
       "      <th>203762</th>\n",
       "      <td>800 Fleet St</td>\n",
       "      <td>43.636804</td>\n",
       "      <td>-79.408832</td>\n",
       "      <td>17</td>\n",
       "      <td>BaoBird Fried Chicken &amp; Baos</td>\n",
       "      <td>802.719367</td>\n",
       "      <td>43.640584</td>\n",
       "      <td>-79.402567</td>\n",
       "      <td>['28 Bathurst Street', 'Toronto, ON M5V 0C6', ...</td>\n",
       "      <td>None</td>\n",
       "      <td>5.0</td>\n",
       "      <td>1</td>\n",
       "      <td>0</td>\n",
       "    </tr>\n",
       "    <tr>\n",
       "      <th>203763</th>\n",
       "      <td>800 Fleet St</td>\n",
       "      <td>43.636804</td>\n",
       "      <td>-79.408832</td>\n",
       "      <td>17</td>\n",
       "      <td>UBE Night Market</td>\n",
       "      <td>260.249900</td>\n",
       "      <td>43.637334</td>\n",
       "      <td>-79.409135</td>\n",
       "      <td>['250 Fort York Boulevard', 'Unit 57', 'The Be...</td>\n",
       "      <td>None</td>\n",
       "      <td>5.0</td>\n",
       "      <td>1</td>\n",
       "      <td>0</td>\n",
       "    </tr>\n",
       "    <tr>\n",
       "      <th>203764</th>\n",
       "      <td>800 Fleet St</td>\n",
       "      <td>43.636804</td>\n",
       "      <td>-79.408832</td>\n",
       "      <td>17</td>\n",
       "      <td>Roses Cocina</td>\n",
       "      <td>293.778794</td>\n",
       "      <td>43.633214</td>\n",
       "      <td>-79.411579</td>\n",
       "      <td>['111 Princes  Boulevard', 'Floor 2', 'Toronto...</td>\n",
       "      <td>+1 647-259-6825</td>\n",
       "      <td>3.0</td>\n",
       "      <td>13</td>\n",
       "      <td>0</td>\n",
       "    </tr>\n",
       "    <tr>\n",
       "      <th>203765</th>\n",
       "      <td>800 Fleet St</td>\n",
       "      <td>43.636804</td>\n",
       "      <td>-79.408832</td>\n",
       "      <td>17</td>\n",
       "      <td>Liberty Soho</td>\n",
       "      <td>755.786002</td>\n",
       "      <td>43.638467</td>\n",
       "      <td>-79.416825</td>\n",
       "      <td>['139 E Liberty Street', 'Toronto, ON M6K 3K4'...</td>\n",
       "      <td>None</td>\n",
       "      <td>3.5</td>\n",
       "      <td>11</td>\n",
       "      <td>0</td>\n",
       "    </tr>\n",
       "    <tr>\n",
       "      <th>203766</th>\n",
       "      <td>800 Fleet St</td>\n",
       "      <td>43.636804</td>\n",
       "      <td>-79.408832</td>\n",
       "      <td>17</td>\n",
       "      <td>Edulis</td>\n",
       "      <td>795.874963</td>\n",
       "      <td>43.641960</td>\n",
       "      <td>-79.406580</td>\n",
       "      <td>['169 Niagara Street', 'Toronto, ON M5V', 'Can...</td>\n",
       "      <td>+1 416-703-4222</td>\n",
       "      <td>4.0</td>\n",
       "      <td>121</td>\n",
       "      <td>0</td>\n",
       "    </tr>\n",
       "  </tbody>\n",
       "</table>\n",
       "<p>203767 rows × 13 columns</p>\n",
       "</div>"
      ],
      "text/plain": [
       "                     Station Name  station_lat  station_lon  Bikes Available  \\\n",
       "0       Queen St E / Woodward Ave    43.665269   -79.319796               14   \n",
       "1       Queen St E / Woodward Ave    43.665269   -79.319796               14   \n",
       "2       Queen St E / Woodward Ave    43.665269   -79.319796               14   \n",
       "3       Queen St E / Woodward Ave    43.665269   -79.319796               14   \n",
       "4       Queen St E / Woodward Ave    43.665269   -79.319796               14   \n",
       "...                           ...          ...          ...              ...   \n",
       "203762               800 Fleet St    43.636804   -79.408832               17   \n",
       "203763               800 Fleet St    43.636804   -79.408832               17   \n",
       "203764               800 Fleet St    43.636804   -79.408832               17   \n",
       "203765               800 Fleet St    43.636804   -79.408832               17   \n",
       "203766               800 Fleet St    43.636804   -79.408832               17   \n",
       "\n",
       "                                name    distance  restaurant_lat  \\\n",
       "0                           Jaclyn's  172.375134       43.666270   \n",
       "1                          Lake Inez  794.661955       43.672340   \n",
       "2                      Tulia Osteria  365.115394       43.664870   \n",
       "3                   Casa Di Giorgios  408.715724       43.666850   \n",
       "4                       Betty’s East  689.778721       43.663455   \n",
       "...                              ...         ...             ...   \n",
       "203762  BaoBird Fried Chicken & Baos  802.719367       43.640584   \n",
       "203763              UBE Night Market  260.249900       43.637334   \n",
       "203764                  Roses Cocina  293.778794       43.633214   \n",
       "203765                  Liberty Soho  755.786002       43.638467   \n",
       "203766                        Edulis  795.874963       43.641960   \n",
       "\n",
       "        restaurant_lon                                            address  \\\n",
       "0           -79.318020  ['1588 Queen Street E', 'Toronto, ON M4L 1G1',...   \n",
       "1           -79.320640  ['1471 Gerrard Street E', 'Toronto, ON M4L 2A1...   \n",
       "2           -79.324250  ['1402 Queen Street E', 'Toronto, ON M4L 1C9',...   \n",
       "3           -79.315180  ['1646 Queen St E', 'Toronto, ON M4L 1G3', 'Ca...   \n",
       "4           -79.327992  ['1301 Queen Street E', 'Toronto, ON M4L 1C2',...   \n",
       "...                ...                                                ...   \n",
       "203762      -79.402567  ['28 Bathurst Street', 'Toronto, ON M5V 0C6', ...   \n",
       "203763      -79.409135  ['250 Fort York Boulevard', 'Unit 57', 'The Be...   \n",
       "203764      -79.411579  ['111 Princes  Boulevard', 'Floor 2', 'Toronto...   \n",
       "203765      -79.416825  ['139 E Liberty Street', 'Toronto, ON M6K 3K4'...   \n",
       "203766      -79.406580  ['169 Niagara Street', 'Toronto, ON M5V', 'Can...   \n",
       "\n",
       "              telephone  rating  review_counts  closed  \n",
       "0       +1 647-901-8809     4.5             16       0  \n",
       "1                  None     4.5             95       0  \n",
       "2       +1 416-461-6400     4.5              2       0  \n",
       "3       +1 416-686-7066     4.0             75       0  \n",
       "4       +1 416-901-5575     3.5              6       0  \n",
       "...                 ...     ...            ...     ...  \n",
       "203762             None     5.0              1       0  \n",
       "203763             None     5.0              1       0  \n",
       "203764  +1 647-259-6825     3.0             13       0  \n",
       "203765             None     3.5             11       0  \n",
       "203766  +1 416-703-4222     4.0            121       0  \n",
       "\n",
       "[203767 rows x 13 columns]"
      ]
     },
     "execution_count": 90,
     "metadata": {},
     "output_type": "execute_result"
    }
   ],
   "source": [
    "result_df"
   ]
  },
  {
   "cell_type": "code",
   "execution_count": 91,
   "metadata": {
    "tags": []
   },
   "outputs": [],
   "source": [
    "# creating a csv file for result_df for further use\n",
    "result_df.to_csv(\"C:\\\\Users\\\\Karthik Gelli\\\\Downloads\\\\statistical Modelling using python\\\\project-2\\\\notebooks\\\\Result.csv\", index=False)"
   ]
  },
  {
   "cell_type": "code",
   "execution_count": null,
   "metadata": {},
   "outputs": [],
   "source": []
  }
 ],
 "metadata": {
  "kernelspec": {
   "display_name": "Python 3 (ipykernel)",
   "language": "python",
   "name": "python3"
  },
  "language_info": {
   "codemirror_mode": {
    "name": "ipython",
    "version": 3
   },
   "file_extension": ".py",
   "mimetype": "text/x-python",
   "name": "python",
   "nbconvert_exporter": "python",
   "pygments_lexer": "ipython3",
   "version": "3.11.4"
  }
 },
 "nbformat": 4,
 "nbformat_minor": 4
}
